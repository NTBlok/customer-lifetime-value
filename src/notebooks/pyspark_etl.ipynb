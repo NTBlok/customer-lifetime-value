{
 "cells": [
  {
   "cell_type": "code",
   "execution_count": 1,
   "metadata": {
    "collapsed": false
   },
   "outputs": [
    {
     "name": "stdout",
     "output_type": "stream",
     "text": [
      "events.txt\r\n"
     ]
    }
   ],
   "source": [
    "ls ../../sample_input/"
   ]
  },
  {
   "cell_type": "code",
   "execution_count": 2,
   "metadata": {
    "collapsed": true
   },
   "outputs": [],
   "source": [
    "from pyspark import SparkContext\n",
    "import json\n",
    "from datetime import datetime, timedelta"
   ]
  },
  {
   "cell_type": "code",
   "execution_count": 3,
   "metadata": {
    "collapsed": false,
    "scrolled": false
   },
   "outputs": [],
   "source": [
    "path = \"../../sample_input/events.txt\"\n",
    "sc = None\n",
    "sc = SparkContext()\n",
    "csv_lines = sc.textFile(path)"
   ]
  },
  {
   "cell_type": "code",
   "execution_count": 32,
   "metadata": {
    "collapsed": false
   },
   "outputs": [
    {
     "data": {
      "text/plain": [
       "[u'[{\"type\": \"CUSTOMER\", \"verb\": \"NEW\", \"key\": \"96f55c7d8f42\", \"event_time\": \"2017-01-06T12:46:46.384Z\", \"last_name\": \"Smith\", \"adr_city\": \"Middletown\", \"adr_state\": \"AK\"},',\n",
       " u'{\"type\": \"SITE_VISIT\", \"verb\": \"NEW\", \"key\": \"ac05e815502f\", \"event_time\": \"2017-01-06T12:45:52.041Z\", \"customer_id\": \"96f55c7d8f42\", \"tags\": {\"some key\": \"some value\"}},',\n",
       " u'{\"type\": \"IMAGE\", \"verb\": \"UPLOAD\", \"key\": \"d8ede43b1d9f\", \"event_time\": \"2017-01-06T12:47:12.344Z\", \"customer_id\": \"96f55c7d8f42\", \"camera_make\": \"Canon\", \"camera_model\": \"EOS 80D\"},',\n",
       " u'{\"type\": \"ORDER\", \"verb\": \"NEW\", \"key\": \"68d84e5d1a43\", \"event_time\": \"2017-01-06T12:55:55.555Z\", \"customer_id\": \"96f55c7d8f42\", \"total_amount\": \"12.34 USD\"}]']"
      ]
     },
     "execution_count": 32,
     "metadata": {},
     "output_type": "execute_result"
    }
   ],
   "source": [
    "csv_lines.collect()"
   ]
  },
  {
   "cell_type": "code",
   "execution_count": 33,
   "metadata": {
    "collapsed": false
   },
   "outputs": [
    {
     "data": {
      "text/plain": [
       "[u'{\"type\": \"CUSTOMER\", \"verb\": \"NEW\", \"key\": \"96f55c7d8f42\", \"event_time\": \"2017-01-06T12:46:46.384Z\", \"last_name\": \"Smith\", \"adr_city\": \"Middletown\", \"adr_state\": \"AK\"}',\n",
       " u'{\"type\": \"SITE_VISIT\", \"verb\": \"NEW\", \"key\": \"ac05e815502f\", \"event_time\": \"2017-01-06T12:45:52.041Z\", \"customer_id\": \"96f55c7d8f42\", \"tags\": {\"some key\": \"some value\"}}',\n",
       " u'{\"type\": \"IMAGE\", \"verb\": \"UPLOAD\", \"key\": \"d8ede43b1d9f\", \"event_time\": \"2017-01-06T12:47:12.344Z\", \"customer_id\": \"96f55c7d8f42\", \"camera_make\": \"Canon\", \"camera_model\": \"EOS 80D\"}',\n",
       " u'{\"type\": \"ORDER\", \"verb\": \"NEW\", \"key\": \"68d84e5d1a43\", \"event_time\": \"2017-01-06T12:55:55.555Z\", \"customer_id\": \"96f55c7d8f42\", \"total_amount\": \"12.34 USD\"}']"
      ]
     },
     "execution_count": 33,
     "metadata": {},
     "output_type": "execute_result"
    }
   ],
   "source": [
    "list_of_lines = csv_lines.map(lambda line: line.replace('[','').strip(',').replace(']',''))\n",
    "list_of_lines.collect()"
   ]
  },
  {
   "cell_type": "code",
   "execution_count": 34,
   "metadata": {
    "collapsed": false
   },
   "outputs": [
    {
     "data": {
      "text/plain": [
       "u'{\"type\": \"CUSTOMER\", \"verb\": \"NEW\", \"key\": \"96f55c7d8f42\", \"event_time\": \"2017-01-06T12:46:46.384Z\", \"last_name\": \"Smith\", \"adr_city\": \"Middletown\", \"adr_state\": \"AK\"}'"
      ]
     },
     "execution_count": 34,
     "metadata": {},
     "output_type": "execute_result"
    }
   ],
   "source": [
    "list_of_lines.first()"
   ]
  },
  {
   "cell_type": "code",
   "execution_count": 35,
   "metadata": {
    "collapsed": false
   },
   "outputs": [
    {
     "data": {
      "text/plain": [
       "['{\"last_name\": \"Smith\", \"event_time\": \"2017-01-06T12:46:46.384Z\", \"verb\": \"NEW\", \"key\": \"96f55c7d8f42\", \"adr_state\": \"AK\", \"adr_city\": \"Middletown\", \"type\": \"CUSTOMER\"}',\n",
       " '{\"event_time\": \"2017-01-06T12:45:52.041Z\", \"tags\": {\"some key\": \"some value\"}, \"verb\": \"NEW\", \"key\": \"ac05e815502f\", \"customer_id\": \"96f55c7d8f42\", \"type\": \"SITE_VISIT\"}',\n",
       " '{\"camera_make\": \"Canon\", \"event_time\": \"2017-01-06T12:47:12.344Z\", \"camera_model\": \"EOS 80D\", \"verb\": \"UPLOAD\", \"key\": \"d8ede43b1d9f\", \"customer_id\": \"96f55c7d8f42\", \"type\": \"IMAGE\"}',\n",
       " '{\"total_amount\": \"12.34 USD\", \"event_time\": \"2017-01-06T12:55:55.555Z\", \"verb\": \"NEW\", \"key\": \"68d84e5d1a43\", \"customer_id\": \"96f55c7d8f42\", \"type\": \"ORDER\"}']"
      ]
     },
     "execution_count": 35,
     "metadata": {},
     "output_type": "execute_result"
    }
   ],
   "source": [
    "data = list_of_lines.map(lambda line: json.dumps(json.loads(line)))\n",
    "data.collect()"
   ]
  },
  {
   "cell_type": "code",
   "execution_count": 36,
   "metadata": {
    "collapsed": false
   },
   "outputs": [
    {
     "data": {
      "text/plain": [
       "'{\"last_name\": \"Smith\", \"event_time\": \"2017-01-06T12:46:46.384Z\", \"verb\": \"NEW\", \"key\": \"96f55c7d8f42\", \"adr_state\": \"AK\", \"adr_city\": \"Middletown\", \"type\": \"CUSTOMER\"}'"
      ]
     },
     "execution_count": 36,
     "metadata": {},
     "output_type": "execute_result"
    }
   ],
   "source": [
    "data.first()"
   ]
  },
  {
   "cell_type": "code",
   "execution_count": 37,
   "metadata": {
    "collapsed": true
   },
   "outputs": [],
   "source": [
    "def customer_key_to_id(line):\n",
    "    event = json.loads(line)\n",
    "    if event['type'] == 'CUSTOMER':\n",
    "        customer_id = event['key']\n",
    "    else:\n",
    "        customer_id = event['customer_id']\n",
    "    return customer_id"
   ]
  },
  {
   "cell_type": "code",
   "execution_count": 39,
   "metadata": {
    "collapsed": false
   },
   "outputs": [
    {
     "data": {
      "text/plain": [
       "[(u'96f55c7d8f42',\n",
       "  [u'{\"type\": \"CUSTOMER\", \"verb\": \"NEW\", \"key\": \"96f55c7d8f42\", \"event_time\": \"2017-01-06T12:46:46.384Z\", \"last_name\": \"Smith\", \"adr_city\": \"Middletown\", \"adr_state\": \"AK\"}',\n",
       "   u'{\"type\": \"SITE_VISIT\", \"verb\": \"NEW\", \"key\": \"ac05e815502f\", \"event_time\": \"2017-01-06T12:45:52.041Z\", \"customer_id\": \"96f55c7d8f42\", \"tags\": {\"some key\": \"some value\"}}',\n",
       "   u'{\"type\": \"IMAGE\", \"verb\": \"UPLOAD\", \"key\": \"d8ede43b1d9f\", \"event_time\": \"2017-01-06T12:47:12.344Z\", \"customer_id\": \"96f55c7d8f42\", \"camera_make\": \"Canon\", \"camera_model\": \"EOS 80D\"}',\n",
       "   u'{\"type\": \"ORDER\", \"verb\": \"NEW\", \"key\": \"68d84e5d1a43\", \"event_time\": \"2017-01-06T12:55:55.555Z\", \"customer_id\": \"96f55c7d8f42\", \"total_amount\": \"12.34 USD\"}'])]"
      ]
     },
     "execution_count": 39,
     "metadata": {},
     "output_type": "execute_result"
    }
   ],
   "source": [
    "grouped_lines = list_of_lines.groupBy(lambda line: customer_key_to_id(line))\n",
    "byCustomer = grouped_lines.map(lambda x: (x[0], list(x[1])))\n",
    "byCustomer.collect()"
   ]
  },
  {
   "cell_type": "code",
   "execution_count": 41,
   "metadata": {
    "collapsed": true
   },
   "outputs": [],
   "source": [
    "def sort_events_by_datetime(events_list):\n",
    "    time_event_tuples = [(json.loads(event)['event_time'],event) for event in events_list]\n",
    "    time_event_tuples.sort()\n",
    "    return time_event_tuples"
   ]
  },
  {
   "cell_type": "code",
   "execution_count": 42,
   "metadata": {
    "collapsed": false
   },
   "outputs": [
    {
     "data": {
      "text/plain": [
       "[(u'96f55c7d8f42',\n",
       "  [(u'2017-01-06T12:45:52.041Z',\n",
       "    u'{\"type\": \"SITE_VISIT\", \"verb\": \"NEW\", \"key\": \"ac05e815502f\", \"event_time\": \"2017-01-06T12:45:52.041Z\", \"customer_id\": \"96f55c7d8f42\", \"tags\": {\"some key\": \"some value\"}}'),\n",
       "   (u'2017-01-06T12:46:46.384Z',\n",
       "    u'{\"type\": \"CUSTOMER\", \"verb\": \"NEW\", \"key\": \"96f55c7d8f42\", \"event_time\": \"2017-01-06T12:46:46.384Z\", \"last_name\": \"Smith\", \"adr_city\": \"Middletown\", \"adr_state\": \"AK\"}'),\n",
       "   (u'2017-01-06T12:47:12.344Z',\n",
       "    u'{\"type\": \"IMAGE\", \"verb\": \"UPLOAD\", \"key\": \"d8ede43b1d9f\", \"event_time\": \"2017-01-06T12:47:12.344Z\", \"customer_id\": \"96f55c7d8f42\", \"camera_make\": \"Canon\", \"camera_model\": \"EOS 80D\"}'),\n",
       "   (u'2017-01-06T12:55:55.555Z',\n",
       "    u'{\"type\": \"ORDER\", \"verb\": \"NEW\", \"key\": \"68d84e5d1a43\", \"event_time\": \"2017-01-06T12:55:55.555Z\", \"customer_id\": \"96f55c7d8f42\", \"total_amount\": \"12.34 USD\"}')])]"
      ]
     },
     "execution_count": 42,
     "metadata": {},
     "output_type": "execute_result"
    }
   ],
   "source": [
    "grouped_lines = list_of_lines.groupBy(lambda line: customer_key_to_id(line))\n",
    "byCustomer = grouped_lines.map(lambda x: ( x[0],sort_events_by_datetime(list(x[1])) ) )\n",
    "byCustomer.collect()"
   ]
  },
  {
   "cell_type": "code",
   "execution_count": 55,
   "metadata": {
    "collapsed": false
   },
   "outputs": [],
   "source": [
    "def parse_event_time(event_time):\n",
    "    dt,tm = event_time.strip('Z').split('T')\n",
    "    t = ':'.join(tm.split(':')[:3])\n",
    "    return dt,t\n",
    "\n",
    "def dt_to_day(dt,fmt=\"%Y-%m-%d\"):\n",
    "    return datetime.strptime(dt,fmt).strftime('%A')\n",
    "\n",
    "def str_to_dt_var(str_dt,fmt=\"%Y-%m-%d %H:%M:%S\"):\n",
    "    return datetime.strptime(str_dt,fmt)\n",
    "\n",
    "def dt_var_to_str(dt_var,fmt=\"%Y-%m-%d %H:%M:%S\"):\n",
    "    return datetime.strftime(dt_var,fmt)\n",
    "\n",
    "def week_start_end(week_range):\n",
    "    list_of_week_start_end = []\n",
    "    start = week_range[0]\n",
    "    end = dt_var_to_str(str_to_dt_var(start,fmt=\"%Y-%m-%d\")+timedelta(days=6),\n",
    "                        fmt=\"%Y-%m-%d\")\n",
    "    list_of_week_start_end.append((start,end))\n",
    "    while end < week_range[-1]:\n",
    "        start = dt_var_to_str(str_to_dt_var(end,fmt=\"%Y-%m-%d\")+timedelta(days=1),\n",
    "                        fmt=\"%Y-%m-%d\")\n",
    "        end = dt_var_to_str(str_to_dt_var(start,fmt=\"%Y-%m-%d\")+timedelta(days=6),\n",
    "                        fmt=\"%Y-%m-%d\")\n",
    "        list_of_week_start_end.append((start,end))    \n",
    "    return list_of_week_start_end\n",
    "\n",
    "def week_is_number(date,list_of_week_start_end):\n",
    "    dt_var = str_to_dt_var(date,fmt=\"%Y-%m-%d\")\n",
    "    week_number = [i for i in range(len(list_of_week_start_end)) \n",
    "                   if dt_var >= str_to_dt_var(list_of_week_start_end[i][0],fmt=\"%Y-%m-%d\")\n",
    "                     and dt_var <= str_to_dt_var(list_of_week_start_end[i][1],fmt=\"%Y-%m-%d\")][0]\n",
    "    return week_number\n",
    "\n",
    "def sessionize_datetime_data(session_data,minute_window=30,\n",
    "                             week_def={'Sunday':0,\n",
    "                                   'Monday':1,\n",
    "                                   'Tuesday':2,\n",
    "                                   'Wednesday':3,\n",
    "                                   'Thursday':4,\n",
    "                                   'Friday':5,\n",
    "                                   'Saturday':6},\n",
    "                             hdr=['date','day','session_start','prior_session_start'\n",
    "                                  ,'minutes_since_prior_session']):\n",
    "\n",
    "\n",
    "\n",
    "    week_numbers = [0]\n",
    "    initial_day = dict(zip(hdr,session_data[0][0]))['day']\n",
    "    initial_date = dict(zip(hdr,session_data[0][0]))['date']\n",
    "    final_date = dict(zip(hdr,session_data[-1][0]))['date']\n",
    "    week_range = [initial_date,final_date]\n",
    "    n = 0\n",
    "    session_numbers = [n]\n",
    "    if initial_day != 'Sunday':\n",
    "        initial_dt_var = str_to_dt_var(initial_date,fmt=\"%Y-%m-%d\")-timedelta(days=week_def[initial_day]-1)\n",
    "        week_range[0] = dt_var_to_str(initial_dt_var,fmt=\"%Y-%m-%d\")                           \n",
    "    list_of_week_start_end = week_start_end(week_range)\n",
    "    for i in range(1,len(session_data)):\n",
    "        session_dict = dict(zip(hdr,session_data[i][0]))\n",
    "        minutes_since_prior_session = session_dict['minutes_since_prior_session']\n",
    "        if minutes_since_prior_session <= minute_window:\n",
    "            session_numbers.append(n)\n",
    "        else:\n",
    "            n += 1\n",
    "            session_numbers.append(n)            \n",
    "        date = session_dict['date']\n",
    "        week_number = week_is_number(date,list_of_week_start_end)\n",
    "        week_numbers.append(week_number)\n",
    "\n",
    "    return week_numbers,session_numbers\n",
    "\n",
    "\n",
    "    \n",
    "    \n",
    "\n",
    "def sessionize(time_event_tuples):\n",
    "    session_data = []\n",
    "    initial_event_time,initial_event = time_event_tuples[0]\n",
    "    initial_dt,initial_t = parse_event_time(initial_event_time)\n",
    "    initial_d = dt_to_day(initial_dt)\n",
    "    session_data.append(([initial_dt,initial_d,initial_t,None,None],initial_event))\n",
    "    for i in range(1,len(time_event_tuples)):\n",
    "        event_time,event = time_event_tuples[i]\n",
    "        prior_event_time,prior_event = time_event_tuples[i-1]\n",
    "        dt,t = parse_event_time(event_time)\n",
    "        d = dt_to_day(dt)\n",
    "        prior_dt,prior_t = parse_event_time(prior_event_time)\n",
    "        seconds_since_prior_t = (str_to_dt_var(dt,fmt=\"%Y-%m-%d\")\n",
    "                                 -str_to_dt_var(prior_dt,fmt=\"%Y-%m-%d\")).seconds\n",
    "        minutes_since_prior_t = (seconds_since_prior_t % 3600) // 60\n",
    "        session_data.append(([dt,d,t,prior_t,minutes_since_prior_t],event))\n",
    "    \n",
    "    week_numbers,session_numbers = sessionize_datetime_data(session_data)\n",
    "    events = [session_events[1] for session_events in session_data]\n",
    "    return [zip(week_numbers,session_numbers,events)]\n"
   ]
  },
  {
   "cell_type": "code",
   "execution_count": 56,
   "metadata": {
    "collapsed": false
   },
   "outputs": [
    {
     "data": {
      "text/plain": [
       "[(u'96f55c7d8f42',\n",
       "  [[(0,\n",
       "     0,\n",
       "     u'{\"type\": \"SITE_VISIT\", \"verb\": \"NEW\", \"key\": \"ac05e815502f\", \"event_time\": \"2017-01-06T12:45:52.041Z\", \"customer_id\": \"96f55c7d8f42\", \"tags\": {\"some key\": \"some value\"}}'),\n",
       "    (0,\n",
       "     0,\n",
       "     u'{\"type\": \"CUSTOMER\", \"verb\": \"NEW\", \"key\": \"96f55c7d8f42\", \"event_time\": \"2017-01-06T12:46:46.384Z\", \"last_name\": \"Smith\", \"adr_city\": \"Middletown\", \"adr_state\": \"AK\"}'),\n",
       "    (0,\n",
       "     0,\n",
       "     u'{\"type\": \"IMAGE\", \"verb\": \"UPLOAD\", \"key\": \"d8ede43b1d9f\", \"event_time\": \"2017-01-06T12:47:12.344Z\", \"customer_id\": \"96f55c7d8f42\", \"camera_make\": \"Canon\", \"camera_model\": \"EOS 80D\"}'),\n",
       "    (0,\n",
       "     0,\n",
       "     u'{\"type\": \"ORDER\", \"verb\": \"NEW\", \"key\": \"68d84e5d1a43\", \"event_time\": \"2017-01-06T12:55:55.555Z\", \"customer_id\": \"96f55c7d8f42\", \"total_amount\": \"12.34 USD\"}')]])]"
      ]
     },
     "execution_count": 56,
     "metadata": {},
     "output_type": "execute_result"
    }
   ],
   "source": [
    "byCustomerSession = byCustomer.map(lambda x: (x[0],sessionize(x[1])) )\n",
    "byCustomerSession.collect()"
   ]
  },
  {
   "cell_type": "code",
   "execution_count": null,
   "metadata": {
    "collapsed": true
   },
   "outputs": [],
   "source": []
  },
  {
   "cell_type": "code",
   "execution_count": 14,
   "metadata": {
    "collapsed": true
   },
   "outputs": [],
   "source": []
  },
  {
   "cell_type": "code",
   "execution_count": null,
   "metadata": {
    "collapsed": true
   },
   "outputs": [],
   "source": []
  }
 ],
 "metadata": {
  "kernelspec": {
   "display_name": "Python 2",
   "language": "python",
   "name": "python2"
  },
  "language_info": {
   "codemirror_mode": {
    "name": "ipython",
    "version": 2
   },
   "file_extension": ".py",
   "mimetype": "text/x-python",
   "name": "python",
   "nbconvert_exporter": "python",
   "pygments_lexer": "ipython2",
   "version": "2.7.12"
  }
 },
 "nbformat": 4,
 "nbformat_minor": 2
}
