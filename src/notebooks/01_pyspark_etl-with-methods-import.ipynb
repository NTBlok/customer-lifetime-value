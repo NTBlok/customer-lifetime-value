{
 "cells": [
  {
   "cell_type": "code",
   "execution_count": 1,
   "metadata": {
    "collapsed": false
   },
   "outputs": [
    {
     "name": "stdout",
     "output_type": "stream",
     "text": [
      "input.txt\r\n"
     ]
    }
   ],
   "source": [
    "ls ../../input"
   ]
  },
  {
   "cell_type": "code",
   "execution_count": 2,
   "metadata": {
    "collapsed": true
   },
   "outputs": [],
   "source": [
    "from pyspark import SparkContext\n",
    "import json\n",
    "\n",
    "# Import pyspark etl methods from separate file to develop test-driven development\n",
    "from methods_pyspark_etl import *\n",
    "\n",
    "import os"
   ]
  },
  {
   "cell_type": "code",
   "execution_count": 3,
   "metadata": {
    "collapsed": true
   },
   "outputs": [],
   "source": [
    "path = \"../../input/input.txt\"\n",
    "sc = None\n",
    "# Create a SparkContext object, main entry point for accessing a cluster\n",
    "sc = SparkContext()\n",
    "# Create an RDD of the lines in the csv given its path\n",
    "csv_lines = sc.textFile(path)"
   ]
  },
  {
   "cell_type": "code",
   "execution_count": 4,
   "metadata": {
    "collapsed": false
   },
   "outputs": [
    {
     "data": {
      "text/plain": [
       "u'2.0.2'"
      ]
     },
     "execution_count": 4,
     "metadata": {},
     "output_type": "execute_result"
    }
   ],
   "source": [
    "# Check the version of Spark\n",
    "sc.version"
   ]
  },
  {
   "cell_type": "code",
   "execution_count": 5,
   "metadata": {
    "collapsed": false
   },
   "outputs": [
    {
     "data": {
      "text/plain": [
       "[u'{\"last_name\": \"Thompson\", \"event_time\": \"2017-02-23T16:59:24.755Z\", \"verb\": \"NEW\", \"key\": \"9bc11d8ac1dd\", \"adr_state\": \"CO\", \"adr_city\": \"North Johnny\", \"type\": \"CUSTOMER\"}',\n",
       " u'{\"event_time\": \"2017-02-17T16:59:24.770Z\", \"tags\": {\"some key\": \"some value\"}, \"verb\": \"NEW\", \"key\": \"9f69ce6df5a1\", \"customer_id\": \"9bc11d8ac1dd\", \"type\": \"SITE_VISIT\"}',\n",
       " u'{\"camera_make\": \"Olympus\", \"event_time\": \"2017-02-24T16:59:24.807Z\", \"camera_model\": \"FE-45\", \"verb\": \"UPLOAD\", \"key\": \"1bd83b6247c9\", \"customer_id\": \"9bc11d8ac1dd\", \"type\": \"IMAGE\"}',\n",
       " u'{\"total_amount\": \"48.64 USD\", \"event_time\": \"2017-02-19T16:59:24.835Z\", \"verb\": \"NEW\", \"key\": \"c12ad0d93a2b\", \"customer_id\": \"9bc11d8ac1dd\", \"type\": \"ORDER\"}',\n",
       " u'{\"last_name\": \"Jones\", \"event_time\": \"2017-02-14T16:59:24.864Z\", \"verb\": \"NEW\", \"key\": \"136395ff6a28\", \"adr_state\": \"DC\", \"adr_city\": \"Colebury\", \"type\": \"CUSTOMER\"}',\n",
       " u'{\"event_time\": \"2017-02-13T16:59:24.878Z\", \"tags\": {\"some key\": \"some value\"}, \"verb\": \"NEW\", \"key\": \"a1e844194542\", \"customer_id\": \"136395ff6a28\", \"type\": \"SITE_VISIT\"}',\n",
       " u'{\"camera_make\": \"Olympus\", \"event_time\": \"2017-02-14T16:59:24.909Z\", \"camera_model\": \"XZ-1\", \"verb\": \"UPLOAD\", \"key\": \"4ab24c3923c3\", \"customer_id\": \"136395ff6a28\", \"type\": \"IMAGE\"}',\n",
       " u'{\"total_amount\": \"96.88 USD\", \"event_time\": \"2017-02-20T16:59:24.944Z\", \"verb\": \"NEW\", \"key\": \"284f7d47b59f\", \"customer_id\": \"136395ff6a28\", \"type\": \"ORDER\"}',\n",
       " u'{\"last_name\": \"Jones\", \"event_time\": \"2017-02-14T16:59:24.864Z\", \"verb\": \"NEW\", \"key\": \"136395ff6a28\", \"adr_state\": \"DC\", \"adr_city\": \"Colebury\", \"type\": \"CUSTOMER\"}',\n",
       " u'{\"event_time\": \"2017-02-16T16:59:24.961Z\", \"tags\": {\"some key\": \"some value\"}, \"verb\": \"NEW\", \"key\": \"3e5df4719a2c\", \"customer_id\": \"136395ff6a28\", \"type\": \"SITE_VISIT\"}']"
      ]
     },
     "execution_count": 5,
     "metadata": {},
     "output_type": "execute_result"
    }
   ],
   "source": [
    "# View the first 10 lines in the RDD\n",
    "csv_lines.take(10)"
   ]
  },
  {
   "cell_type": "code",
   "execution_count": 6,
   "metadata": {
    "collapsed": false
   },
   "outputs": [
    {
     "name": "stdout",
     "output_type": "stream",
     "text": [
      "{\"last_name\": \"Thompson\", \"event_time\": \"2017-02-23T16:59:24.755Z\", \"verb\": \"NEW\", \"key\": \"9bc11d8ac1dd\", \"adr_state\": \"CO\", \"adr_city\": \"North Johnny\", \"type\": \"CUSTOMER\"}\n"
     ]
    }
   ],
   "source": [
    "# Use a map transformation on the RDD of lines to clean out trailing brackets and commas from each line\n",
    "list_of_lines = csv_lines.map(lambda line: line.replace('[','').strip(',').replace(']',''))\n",
    "# Print first line\n",
    "print list_of_lines.first()"
   ]
  },
  {
   "cell_type": "code",
   "execution_count": 7,
   "metadata": {
    "collapsed": false
   },
   "outputs": [
    {
     "data": {
      "text/plain": [
       "['{\"last_name\": \"Thompson\", \"event_time\": \"2017-02-23T16:59:24.755Z\", \"verb\": \"NEW\", \"key\": \"9bc11d8ac1dd\", \"adr_state\": \"CO\", \"adr_city\": \"North Johnny\", \"type\": \"CUSTOMER\"}',\n",
       " '{\"event_time\": \"2017-02-17T16:59:24.770Z\", \"tags\": {\"some key\": \"some value\"}, \"verb\": \"NEW\", \"key\": \"9f69ce6df5a1\", \"customer_id\": \"9bc11d8ac1dd\", \"type\": \"SITE_VISIT\"}',\n",
       " '{\"camera_make\": \"Olympus\", \"event_time\": \"2017-02-24T16:59:24.807Z\", \"camera_model\": \"FE-45\", \"verb\": \"UPLOAD\", \"key\": \"1bd83b6247c9\", \"customer_id\": \"9bc11d8ac1dd\", \"type\": \"IMAGE\"}',\n",
       " '{\"total_amount\": \"48.64 USD\", \"event_time\": \"2017-02-19T16:59:24.835Z\", \"verb\": \"NEW\", \"key\": \"c12ad0d93a2b\", \"customer_id\": \"9bc11d8ac1dd\", \"type\": \"ORDER\"}',\n",
       " '{\"last_name\": \"Jones\", \"event_time\": \"2017-02-14T16:59:24.864Z\", \"verb\": \"NEW\", \"key\": \"136395ff6a28\", \"adr_state\": \"DC\", \"adr_city\": \"Colebury\", \"type\": \"CUSTOMER\"}',\n",
       " '{\"event_time\": \"2017-02-13T16:59:24.878Z\", \"tags\": {\"some key\": \"some value\"}, \"verb\": \"NEW\", \"key\": \"a1e844194542\", \"customer_id\": \"136395ff6a28\", \"type\": \"SITE_VISIT\"}',\n",
       " '{\"camera_make\": \"Olympus\", \"event_time\": \"2017-02-14T16:59:24.909Z\", \"camera_model\": \"XZ-1\", \"verb\": \"UPLOAD\", \"key\": \"4ab24c3923c3\", \"customer_id\": \"136395ff6a28\", \"type\": \"IMAGE\"}',\n",
       " '{\"total_amount\": \"96.88 USD\", \"event_time\": \"2017-02-20T16:59:24.944Z\", \"verb\": \"NEW\", \"key\": \"284f7d47b59f\", \"customer_id\": \"136395ff6a28\", \"type\": \"ORDER\"}',\n",
       " '{\"last_name\": \"Jones\", \"event_time\": \"2017-02-14T16:59:24.864Z\", \"verb\": \"NEW\", \"key\": \"136395ff6a28\", \"adr_state\": \"DC\", \"adr_city\": \"Colebury\", \"type\": \"CUSTOMER\"}',\n",
       " '{\"event_time\": \"2017-02-16T16:59:24.961Z\", \"tags\": {\"some key\": \"some value\"}, \"verb\": \"NEW\", \"key\": \"3e5df4719a2c\", \"customer_id\": \"136395ff6a28\", \"type\": \"SITE_VISIT\"}']"
      ]
     },
     "execution_count": 7,
     "metadata": {},
     "output_type": "execute_result"
    }
   ],
   "source": [
    "# Map transform lines into json objects\n",
    "data = list_of_lines.map(lambda line: json.dumps(json.loads(line)))\n",
    "data.take(10)"
   ]
  },
  {
   "cell_type": "code",
   "execution_count": 8,
   "metadata": {
    "collapsed": false
   },
   "outputs": [
    {
     "name": "stdout",
     "output_type": "stream",
     "text": [
      "<class 'pyspark.rdd.RDD'>\n",
      "<class 'pyspark.rdd.PipelinedRDD'>\n",
      "<class 'pyspark.rdd.PipelinedRDD'>\n"
     ]
    }
   ],
   "source": [
    "# Check data types for RDDs\n",
    "print type(csv_lines)\n",
    "print type(list_of_lines)\n",
    "print type(data)"
   ]
  },
  {
   "cell_type": "markdown",
   "metadata": {
    "collapsed": true
   },
   "source": [
    "## methods_pyspark_etl.customer_key_to_id(line)\n",
    "#### Extracts customer id for each event\n",
    "\n",
    "    def customer_key_to_id(line):\n",
    "        event = json.loads(line)\n",
    "        if event['type'] == 'CUSTOMER':\n",
    "            customer_id = event['key']\n",
    "        else:\n",
    "            customer_id = event['customer_id']\n",
    "        return customer_id"
   ]
  },
  {
   "cell_type": "code",
   "execution_count": 9,
   "metadata": {
    "collapsed": false
   },
   "outputs": [
    {
     "data": {
      "text/plain": [
       "(u'59e1334b00e9',\n",
       " [u'{\"last_name\": \"Garcia\", \"event_time\": \"2017-02-24T16:59:28.397Z\", \"verb\": \"NEW\", \"key\": \"59e1334b00e9\", \"adr_state\": \"UT\", \"adr_city\": \"Carlosfurt\", \"type\": \"CUSTOMER\"}',\n",
       "  u'{\"event_time\": \"2017-02-14T16:59:28.416Z\", \"tags\": {\"some key\": \"some value\"}, \"verb\": \"NEW\", \"key\": \"5ffe558928e7\", \"customer_id\": \"59e1334b00e9\", \"type\": \"SITE_VISIT\"}',\n",
       "  u'{\"camera_make\": \"Kodak\", \"event_time\": \"2017-02-22T16:59:28.445Z\", \"camera_model\": \"EasyShare Z981\", \"verb\": \"UPLOAD\", \"key\": \"f6701c05b03f\", \"customer_id\": \"59e1334b00e9\", \"type\": \"IMAGE\"}',\n",
       "  u'{\"total_amount\": \"60.04 USD\", \"event_time\": \"2017-02-23T16:59:28.480Z\", \"verb\": \"NEW\", \"key\": \"3c0387d94366\", \"customer_id\": \"59e1334b00e9\", \"type\": \"ORDER\"}',\n",
       "  u'{\"last_name\": \"Garcia\", \"event_time\": \"2017-02-24T16:59:28.397Z\", \"verb\": \"NEW\", \"key\": \"59e1334b00e9\", \"adr_state\": \"UT\", \"adr_city\": \"Carlosfurt\", \"type\": \"CUSTOMER\"}',\n",
       "  u'{\"event_time\": \"2017-02-11T16:59:28.494Z\", \"tags\": {\"some key\": \"some value\"}, \"verb\": \"NEW\", \"key\": \"19ae5aefa034\", \"customer_id\": \"59e1334b00e9\", \"type\": \"SITE_VISIT\"}',\n",
       "  u'{\"camera_make\": \"Fujifilm\", \"event_time\": \"2017-02-13T16:59:28.522Z\", \"camera_model\": \"FinePix A150\", \"verb\": \"UPLOAD\", \"key\": \"dedd650bfa31\", \"customer_id\": \"59e1334b00e9\", \"type\": \"IMAGE\"}',\n",
       "  u'{\"total_amount\": \"35.51 USD\", \"event_time\": \"2017-02-21T16:59:28.559Z\", \"verb\": \"NEW\", \"key\": \"43eeddfdef30\", \"customer_id\": \"59e1334b00e9\", \"type\": \"ORDER\"}',\n",
       "  u'{\"last_name\": \"Garcia\", \"event_time\": \"2017-02-24T16:59:28.397Z\", \"verb\": \"NEW\", \"key\": \"59e1334b00e9\", \"adr_state\": \"UT\", \"adr_city\": \"Carlosfurt\", \"type\": \"CUSTOMER\"}',\n",
       "  u'{\"event_time\": \"2017-02-23T16:59:28.574Z\", \"tags\": {\"some key\": \"some value\"}, \"verb\": \"NEW\", \"key\": \"70969e834d23\", \"customer_id\": \"59e1334b00e9\", \"type\": \"SITE_VISIT\"}',\n",
       "  u'{\"camera_make\": \"Kodak\", \"event_time\": \"2017-02-19T16:59:28.603Z\", \"camera_model\": \"EasyShare Z981\", \"verb\": \"UPLOAD\", \"key\": \"b1eb09c2258b\", \"customer_id\": \"59e1334b00e9\", \"type\": \"IMAGE\"}',\n",
       "  u'{\"total_amount\": \"52.38 USD\", \"event_time\": \"2017-02-10T16:59:28.634Z\", \"verb\": \"NEW\", \"key\": \"e2ddccae25e9\", \"customer_id\": \"59e1334b00e9\", \"type\": \"ORDER\"}'])"
      ]
     },
     "execution_count": 9,
     "metadata": {},
     "output_type": "execute_result"
    }
   ],
   "source": [
    "# Group events by customer id\n",
    "grouped_lines = list_of_lines.groupBy(lambda line: customer_key_to_id(line))\n",
    "# Create tuples of grouped events where each tuple consists of a customer id and a list of events\n",
    "byCustomer = grouped_lines.map(lambda x: (x[0], list(x[1])))\n",
    "byCustomer.first()"
   ]
  },
  {
   "cell_type": "markdown",
   "metadata": {
    "collapsed": true
   },
   "source": [
    "## methods_pyspark_etl.sort_events_by_datetime(events_list)\n",
    "#### Sorts a list of events by ascending datetime\n",
    "\n",
    "    def sort_events_by_datetime(events_list):\n",
    "        time_event_tuples = [(json.loads(event)['event_time'],event) for event in events_list]\n",
    "        time_event_tuples.sort()\n",
    "        return time_event_tuples"
   ]
  },
  {
   "cell_type": "code",
   "execution_count": 10,
   "metadata": {
    "collapsed": false
   },
   "outputs": [
    {
     "data": {
      "text/plain": [
       "(u'59e1334b00e9',\n",
       " [(u'2017-02-10T16:59:28.634Z',\n",
       "   u'{\"total_amount\": \"52.38 USD\", \"event_time\": \"2017-02-10T16:59:28.634Z\", \"verb\": \"NEW\", \"key\": \"e2ddccae25e9\", \"customer_id\": \"59e1334b00e9\", \"type\": \"ORDER\"}'),\n",
       "  (u'2017-02-11T16:59:28.494Z',\n",
       "   u'{\"event_time\": \"2017-02-11T16:59:28.494Z\", \"tags\": {\"some key\": \"some value\"}, \"verb\": \"NEW\", \"key\": \"19ae5aefa034\", \"customer_id\": \"59e1334b00e9\", \"type\": \"SITE_VISIT\"}'),\n",
       "  (u'2017-02-13T16:59:28.522Z',\n",
       "   u'{\"camera_make\": \"Fujifilm\", \"event_time\": \"2017-02-13T16:59:28.522Z\", \"camera_model\": \"FinePix A150\", \"verb\": \"UPLOAD\", \"key\": \"dedd650bfa31\", \"customer_id\": \"59e1334b00e9\", \"type\": \"IMAGE\"}'),\n",
       "  (u'2017-02-14T16:59:28.416Z',\n",
       "   u'{\"event_time\": \"2017-02-14T16:59:28.416Z\", \"tags\": {\"some key\": \"some value\"}, \"verb\": \"NEW\", \"key\": \"5ffe558928e7\", \"customer_id\": \"59e1334b00e9\", \"type\": \"SITE_VISIT\"}'),\n",
       "  (u'2017-02-19T16:59:28.603Z',\n",
       "   u'{\"camera_make\": \"Kodak\", \"event_time\": \"2017-02-19T16:59:28.603Z\", \"camera_model\": \"EasyShare Z981\", \"verb\": \"UPLOAD\", \"key\": \"b1eb09c2258b\", \"customer_id\": \"59e1334b00e9\", \"type\": \"IMAGE\"}'),\n",
       "  (u'2017-02-21T16:59:28.559Z',\n",
       "   u'{\"total_amount\": \"35.51 USD\", \"event_time\": \"2017-02-21T16:59:28.559Z\", \"verb\": \"NEW\", \"key\": \"43eeddfdef30\", \"customer_id\": \"59e1334b00e9\", \"type\": \"ORDER\"}'),\n",
       "  (u'2017-02-22T16:59:28.445Z',\n",
       "   u'{\"camera_make\": \"Kodak\", \"event_time\": \"2017-02-22T16:59:28.445Z\", \"camera_model\": \"EasyShare Z981\", \"verb\": \"UPLOAD\", \"key\": \"f6701c05b03f\", \"customer_id\": \"59e1334b00e9\", \"type\": \"IMAGE\"}'),\n",
       "  (u'2017-02-23T16:59:28.480Z',\n",
       "   u'{\"total_amount\": \"60.04 USD\", \"event_time\": \"2017-02-23T16:59:28.480Z\", \"verb\": \"NEW\", \"key\": \"3c0387d94366\", \"customer_id\": \"59e1334b00e9\", \"type\": \"ORDER\"}'),\n",
       "  (u'2017-02-23T16:59:28.574Z',\n",
       "   u'{\"event_time\": \"2017-02-23T16:59:28.574Z\", \"tags\": {\"some key\": \"some value\"}, \"verb\": \"NEW\", \"key\": \"70969e834d23\", \"customer_id\": \"59e1334b00e9\", \"type\": \"SITE_VISIT\"}'),\n",
       "  (u'2017-02-24T16:59:28.397Z',\n",
       "   u'{\"last_name\": \"Garcia\", \"event_time\": \"2017-02-24T16:59:28.397Z\", \"verb\": \"NEW\", \"key\": \"59e1334b00e9\", \"adr_state\": \"UT\", \"adr_city\": \"Carlosfurt\", \"type\": \"CUSTOMER\"}'),\n",
       "  (u'2017-02-24T16:59:28.397Z',\n",
       "   u'{\"last_name\": \"Garcia\", \"event_time\": \"2017-02-24T16:59:28.397Z\", \"verb\": \"NEW\", \"key\": \"59e1334b00e9\", \"adr_state\": \"UT\", \"adr_city\": \"Carlosfurt\", \"type\": \"CUSTOMER\"}'),\n",
       "  (u'2017-02-24T16:59:28.397Z',\n",
       "   u'{\"last_name\": \"Garcia\", \"event_time\": \"2017-02-24T16:59:28.397Z\", \"verb\": \"NEW\", \"key\": \"59e1334b00e9\", \"adr_state\": \"UT\", \"adr_city\": \"Carlosfurt\", \"type\": \"CUSTOMER\"}')])"
      ]
     },
     "execution_count": 10,
     "metadata": {},
     "output_type": "execute_result"
    }
   ],
   "source": [
    "# Group events by customer id\n",
    "grouped_lines = list_of_lines.groupBy(lambda line: customer_key_to_id(line))\n",
    "# Apply sorting by datetime to list of events tuples per customer id\n",
    "byCustomer = grouped_lines.map(lambda x: ( x[0],sort_events_by_datetime(list(x[1])) ) )\n",
    "byCustomer.first()"
   ]
  },
  {
   "cell_type": "code",
   "execution_count": 12,
   "metadata": {
    "collapsed": false
   },
   "outputs": [
    {
     "data": {
      "text/plain": [
       "pyspark.rdd.PipelinedRDD"
      ]
     },
     "execution_count": 12,
     "metadata": {},
     "output_type": "execute_result"
    }
   ],
   "source": [
    "type(grouped_lines)"
   ]
  },
  {
   "cell_type": "markdown",
   "metadata": {},
   "source": [
    "## Main ETL Methods\n",
    "* **methods_pyspark_etl.parse_event_time(event_time)** Parse and transform datetime to format \"YYYY-mm-dd HH:MM:SS\"\n",
    "* **methods_pyspark_etl.dt_to_day(dt)** Return day of the week from date \"YYYY-mm-dd\"\n",
    "* **methods_pyspark_etl.str_to_dt_var(str_dt)** Transform string \"YYYY-mm-dd\" to date variable\n",
    "* **methods_pyspark_etl.dt_var_to_str(dt_var)** Transform date variable to string \"YYYY-mm-dd\"\n",
    "* **methods_pyspark_etl.week_start_end(week_range)** Create a list of tuples of date of week start and week end\n",
    "* **methods_pyspark_etl.week_is_number(date,list_of_week_start_end)** Determine an integer for a week number for a date falling within a week start/end tuple\n",
    "* **methods_pyspark_etl.sessionize_datetime_data(session_data)** Define week numbers and session numbers for consecutive events occuring within 30 minutes of each other\n",
    "* **methods_pyspark_etl.sessionize(time_event_tuples)**  Transform event tuples into tuples of week_numbers,session_numbers,events\n",
    "\n",
    "\n",
    "    def parse_event_time(event_time):\n",
    "        dt,tm = event_time.strip('Z').split('T')\n",
    "        t = ':'.join(tm.split(':')[:3])\n",
    "        hms = t.split('.')[0]\n",
    "        ymd_hms = ' '.join([dt,hms])\n",
    "        return dt,t,ymd_hms\n",
    "\n",
    "    def dt_to_day(dt,fmt=\"%Y-%m-%d\"):\n",
    "        return datetime.strptime(dt,fmt).strftime('%A')\n",
    "\n",
    "    def str_to_dt_var(str_dt,fmt=\"%Y-%m-%d %H:%M:%S\"):\n",
    "        return datetime.strptime(str_dt,fmt)\n",
    "\n",
    "    def dt_var_to_str(dt_var,fmt=\"%Y-%m-%d %H:%M:%S\"):\n",
    "        return datetime.strftime(dt_var,fmt)\n",
    "\n",
    "    def week_start_end(week_range):\n",
    "        list_of_week_start_end = []\n",
    "        start = week_range[0]\n",
    "        end = dt_var_to_str(str_to_dt_var(start,fmt=\"%Y-%m-%d\")+timedelta(days=6),\n",
    "                            fmt=\"%Y-%m-%d\")\n",
    "        list_of_week_start_end.append((start,end))\n",
    "        while end < week_range[-1]:\n",
    "            start = dt_var_to_str(str_to_dt_var(end,fmt=\"%Y-%m-%d\")+timedelta(days=1),\n",
    "                            fmt=\"%Y-%m-%d\")\n",
    "            end = dt_var_to_str(str_to_dt_var(start,fmt=\"%Y-%m-%d\")+timedelta(days=6),\n",
    "                            fmt=\"%Y-%m-%d\")\n",
    "            list_of_week_start_end.append((start,end))    \n",
    "        return list_of_week_start_end\n",
    "\n",
    "    def week_is_number(date,list_of_week_start_end):\n",
    "        dt_var = str_to_dt_var(date,fmt=\"%Y-%m-%d\")\n",
    "        week_number = [i for i in range(len(list_of_week_start_end)) \n",
    "                       if dt_var >= str_to_dt_var(list_of_week_start_end[i][0],fmt=\"%Y-%m-%d\")\n",
    "                         and dt_var <= str_to_dt_var(list_of_week_start_end[i][1],fmt=\"%Y-%m-%d\")][0]\n",
    "        return week_number\n",
    "\n",
    "    def sessionize_datetime_data(session_data,minute_window=30,\n",
    "                                 week_def={'Sunday':0,\n",
    "                                       'Monday':1,\n",
    "                                       'Tuesday':2,\n",
    "                                       'Wednesday':3,\n",
    "                                       'Thursday':4,\n",
    "                                       'Friday':5,\n",
    "                                       'Saturday':6},\n",
    "                                 hdr=['date','day','session_start','prior_session_start'\n",
    "                                      ,'minutes_since_prior_session']):\n",
    "\n",
    "\n",
    "\n",
    "        week_numbers = [0]\n",
    "        initial_day = dict(zip(hdr,session_data[0][0]))['day']\n",
    "        initial_date = dict(zip(hdr,session_data[0][0]))['date']\n",
    "        final_date = dict(zip(hdr,session_data[-1][0]))['date']\n",
    "        week_range = [initial_date,final_date]\n",
    "        n = 0\n",
    "        session_numbers = [n]\n",
    "\n",
    "        # For initial week, back up start to the defined week start day if the day is not already week start day\n",
    "        \"\"\" TODO:  Use algorithm to scroll integers for a given week start day, then populated week definition dict\n",
    "        See Example:\n",
    "         In[]   idx = [x for x in range(7)] \n",
    "         In[]   print idx\n",
    "         [0, 1, 2, 3, 4, 5, 6]\n",
    "         In[]   for i in range(len(idx)):\n",
    "                    print i,[(x-i)%len(idx) for x in idx]\n",
    "         0 [0, 1, 2, 3, 4, 5, 6]\n",
    "         1 [6, 0, 1, 2, 3, 4, 5]\n",
    "         2 [5, 6, 0, 1, 2, 3, 4]\n",
    "         3 [4, 5, 6, 0, 1, 2, 3]\n",
    "         4 [3, 4, 5, 6, 0, 1, 2]\n",
    "         5 [2, 3, 4, 5, 6, 0, 1]\n",
    "         6 [1, 2, 3, 4, 5, 6, 0]\n",
    "         \"\"\"\n",
    "\n",
    "        for k,v in week_def.items():\n",
    "            if v == 0:\n",
    "                week_start = k\n",
    "        if initial_day != week_start:\n",
    "            initial_dt_var = str_to_dt_var(initial_date,fmt=\"%Y-%m-%d\")-timedelta(days=week_def[initial_day])\n",
    "            week_range[0] = dt_var_to_str(initial_dt_var,fmt=\"%Y-%m-%d\")                           \n",
    "        list_of_week_start_end = week_start_end(week_range)\n",
    "        for i in range(1,len(session_data)):\n",
    "            session_dict = dict(zip(hdr,session_data[i][0]))\n",
    "            minutes_since_prior_session = session_dict['minutes_since_prior_session']\n",
    "            if minutes_since_prior_session <= minute_window:\n",
    "                session_numbers.append(n)\n",
    "            else:\n",
    "                n += 1\n",
    "                session_numbers.append(n)            \n",
    "            date = session_dict['date']\n",
    "            week_number = week_is_number(date,list_of_week_start_end)\n",
    "            week_numbers.append(week_number)\n",
    "\n",
    "        return week_numbers,session_numbers\n",
    "\n",
    "        \n",
    "\n",
    "    def sessionize(time_event_tuples):\n",
    "        session_data = []\n",
    "        initial_event_time,initial_event = time_event_tuples[0]\n",
    "        initial_dt,initial_t,initial_ymd_hms = parse_event_time(initial_event_time)\n",
    "        initial_d = dt_to_day(initial_dt)\n",
    "        session_data.append(([initial_dt,initial_d,initial_t,None,None],initial_event))\n",
    "        for i in range(1,len(time_event_tuples)):\n",
    "            event_time,event = time_event_tuples[i]\n",
    "            prior_event_time,prior_event = time_event_tuples[i-1]\n",
    "            dt,t,ymd_hms = parse_event_time(event_time)\n",
    "            d = dt_to_day(dt)\n",
    "            prior_dt,prior_t,prior_ymd_hms = parse_event_time(prior_event_time)\n",
    "            tdelta = (str_to_dt_var(ymd_hms,fmt=\"%Y-%m-%d %H:%M:%S\")\n",
    "                                     -str_to_dt_var(prior_ymd_hms,fmt=\"%Y-%m-%d %H:%M:%S\"))\n",
    "            seconds_since_prior_t = tdelta.seconds + tdelta.days * 86400.0\n",
    "            minutes_since_prior_t = seconds_since_prior_t / 60.0\n",
    "            session_data.append(([dt,d,t,prior_t,minutes_since_prior_t],event))\n",
    "        \n",
    "        week_numbers,session_numbers = sessionize_datetime_data(session_data)\n",
    "        events = [session_events[1] for session_events in session_data]\n",
    "        return [zip(week_numbers,session_numbers,events)]\n"
   ]
  },
  {
   "cell_type": "code",
   "execution_count": 17,
   "metadata": {
    "collapsed": true
   },
   "outputs": [],
   "source": [
    "def mapCustomerSession_to_Rows(byCustomerSession_tuples):\n",
    "    rows = []\n",
    "    customer_id,session_data = byCustomerSession_tuples\n",
    "    session_data = session_data[0]\n",
    "    for event_tup in session_data:\n",
    "        row = []\n",
    "        row.append(customer_id)\n",
    "        week_id = event_tup[0]\n",
    "        row.append(week_id)\n",
    "        visit_id = event_tup[1]\n",
    "        row.append(visit_id)\n",
    "        event_dict = json.loads(event_tup[2])\n",
    "        event_type = event_dict['type']\n",
    "        if event_type == 'ORDER':\n",
    "            amount = float(event_dict['total_amount'].split()[0])\n",
    "            eventIsOrder = True\n",
    "        else:\n",
    "            amount = 0.0\n",
    "            eventIsOrder = False\n",
    "        row.append(eventIsOrder)\n",
    "        row.append(amount)\n",
    "        rows.append(row)\n",
    "    return rows"
   ]
  },
  {
   "cell_type": "code",
   "execution_count": 16,
   "metadata": {
    "collapsed": false
   },
   "outputs": [
    {
     "data": {
      "text/plain": [
       "[(u'59e1334b00e9',\n",
       "  [[(0,\n",
       "     0,\n",
       "     u'{\"total_amount\": \"52.38 USD\", \"event_time\": \"2017-02-10T16:59:28.634Z\", \"verb\": \"NEW\", \"key\": \"e2ddccae25e9\", \"customer_id\": \"59e1334b00e9\", \"type\": \"ORDER\"}'),\n",
       "    (0,\n",
       "     1,\n",
       "     u'{\"event_time\": \"2017-02-11T16:59:28.494Z\", \"tags\": {\"some key\": \"some value\"}, \"verb\": \"NEW\", \"key\": \"19ae5aefa034\", \"customer_id\": \"59e1334b00e9\", \"type\": \"SITE_VISIT\"}'),\n",
       "    (1,\n",
       "     2,\n",
       "     u'{\"camera_make\": \"Fujifilm\", \"event_time\": \"2017-02-13T16:59:28.522Z\", \"camera_model\": \"FinePix A150\", \"verb\": \"UPLOAD\", \"key\": \"dedd650bfa31\", \"customer_id\": \"59e1334b00e9\", \"type\": \"IMAGE\"}'),\n",
       "    (1,\n",
       "     3,\n",
       "     u'{\"event_time\": \"2017-02-14T16:59:28.416Z\", \"tags\": {\"some key\": \"some value\"}, \"verb\": \"NEW\", \"key\": \"5ffe558928e7\", \"customer_id\": \"59e1334b00e9\", \"type\": \"SITE_VISIT\"}'),\n",
       "    (2,\n",
       "     4,\n",
       "     u'{\"camera_make\": \"Kodak\", \"event_time\": \"2017-02-19T16:59:28.603Z\", \"camera_model\": \"EasyShare Z981\", \"verb\": \"UPLOAD\", \"key\": \"b1eb09c2258b\", \"customer_id\": \"59e1334b00e9\", \"type\": \"IMAGE\"}'),\n",
       "    (2,\n",
       "     5,\n",
       "     u'{\"total_amount\": \"35.51 USD\", \"event_time\": \"2017-02-21T16:59:28.559Z\", \"verb\": \"NEW\", \"key\": \"43eeddfdef30\", \"customer_id\": \"59e1334b00e9\", \"type\": \"ORDER\"}'),\n",
       "    (2,\n",
       "     6,\n",
       "     u'{\"camera_make\": \"Kodak\", \"event_time\": \"2017-02-22T16:59:28.445Z\", \"camera_model\": \"EasyShare Z981\", \"verb\": \"UPLOAD\", \"key\": \"f6701c05b03f\", \"customer_id\": \"59e1334b00e9\", \"type\": \"IMAGE\"}'),\n",
       "    (2,\n",
       "     7,\n",
       "     u'{\"total_amount\": \"60.04 USD\", \"event_time\": \"2017-02-23T16:59:28.480Z\", \"verb\": \"NEW\", \"key\": \"3c0387d94366\", \"customer_id\": \"59e1334b00e9\", \"type\": \"ORDER\"}'),\n",
       "    (2,\n",
       "     7,\n",
       "     u'{\"event_time\": \"2017-02-23T16:59:28.574Z\", \"tags\": {\"some key\": \"some value\"}, \"verb\": \"NEW\", \"key\": \"70969e834d23\", \"customer_id\": \"59e1334b00e9\", \"type\": \"SITE_VISIT\"}'),\n",
       "    (2,\n",
       "     8,\n",
       "     u'{\"last_name\": \"Garcia\", \"event_time\": \"2017-02-24T16:59:28.397Z\", \"verb\": \"NEW\", \"key\": \"59e1334b00e9\", \"adr_state\": \"UT\", \"adr_city\": \"Carlosfurt\", \"type\": \"CUSTOMER\"}'),\n",
       "    (2,\n",
       "     8,\n",
       "     u'{\"last_name\": \"Garcia\", \"event_time\": \"2017-02-24T16:59:28.397Z\", \"verb\": \"NEW\", \"key\": \"59e1334b00e9\", \"adr_state\": \"UT\", \"adr_city\": \"Carlosfurt\", \"type\": \"CUSTOMER\"}'),\n",
       "    (2,\n",
       "     8,\n",
       "     u'{\"last_name\": \"Garcia\", \"event_time\": \"2017-02-24T16:59:28.397Z\", \"verb\": \"NEW\", \"key\": \"59e1334b00e9\", \"adr_state\": \"UT\", \"adr_city\": \"Carlosfurt\", \"type\": \"CUSTOMER\"}')]]),\n",
       " (u'b033af15661d',\n",
       "  [[(0,\n",
       "     0,\n",
       "     u'{\"event_time\": \"2017-02-10T16:59:35.234Z\", \"tags\": {\"some key\": \"some value\"}, \"verb\": \"NEW\", \"key\": \"e6188b2c57da\", \"customer_id\": \"b033af15661d\", \"type\": \"SITE_VISIT\"}'),\n",
       "    (0,\n",
       "     0,\n",
       "     u'{\"camera_make\": \"Canon\", \"event_time\": \"2017-02-10T16:59:35.266Z\", \"camera_model\": \"EOS 80D\", \"verb\": \"UPLOAD\", \"key\": \"5f26b4b74202\", \"customer_id\": \"b033af15661d\", \"type\": \"IMAGE\"}'),\n",
       "    (1,\n",
       "     1,\n",
       "     u'{\"total_amount\": \"97.61 USD\", \"event_time\": \"2017-02-12T16:59:34.967Z\", \"verb\": \"NEW\", \"key\": \"83c0925d2c77\", \"customer_id\": \"b033af15661d\", \"type\": \"ORDER\"}'),\n",
       "    (1,\n",
       "     2,\n",
       "     u'{\"total_amount\": \"18.62 USD\", \"event_time\": \"2017-02-13T16:59:35.052Z\", \"verb\": \"NEW\", \"key\": \"e5fc91d5ec61\", \"customer_id\": \"b033af15661d\", \"type\": \"ORDER\"}'),\n",
       "    (1,\n",
       "     3,\n",
       "     u'{\"camera_make\": \"Nikon\", \"event_time\": \"2017-02-14T16:59:34.931Z\", \"camera_model\": \"D90\", \"verb\": \"UPLOAD\", \"key\": \"d528f92bb4cb\", \"customer_id\": \"b033af15661d\", \"type\": \"IMAGE\"}'),\n",
       "    (1,\n",
       "     3,\n",
       "     u'{\"event_time\": \"2017-02-14T16:59:34.984Z\", \"tags\": {\"some key\": \"some value\"}, \"verb\": \"NEW\", \"key\": \"659e78368c3d\", \"customer_id\": \"b033af15661d\", \"type\": \"SITE_VISIT\"}'),\n",
       "    (1,\n",
       "     4,\n",
       "     u'{\"event_time\": \"2017-02-16T16:59:34.904Z\", \"tags\": {\"some key\": \"some value\"}, \"verb\": \"NEW\", \"key\": \"1e2f0837527a\", \"customer_id\": \"b033af15661d\", \"type\": \"SITE_VISIT\"}'),\n",
       "    (1,\n",
       "     4,\n",
       "     u'{\"event_time\": \"2017-02-16T16:59:35.153Z\", \"tags\": {\"some key\": \"some value\"}, \"verb\": \"NEW\", \"key\": \"a1d1c79c9cea\", \"customer_id\": \"b033af15661d\", \"type\": \"SITE_VISIT\"}'),\n",
       "    (1,\n",
       "     5,\n",
       "     u'{\"camera_make\": \"Sony\", \"event_time\": \"2017-02-17T16:59:35.019Z\", \"camera_model\": \"Alpha QX1\", \"verb\": \"UPLOAD\", \"key\": \"45fe9a2557ac\", \"customer_id\": \"b033af15661d\", \"type\": \"IMAGE\"}'),\n",
       "    (1,\n",
       "     5,\n",
       "     u'{\"event_time\": \"2017-02-17T16:59:35.067Z\", \"tags\": {\"some key\": \"some value\"}, \"verb\": \"NEW\", \"key\": \"63963fae863d\", \"customer_id\": \"b033af15661d\", \"type\": \"SITE_VISIT\"}'),\n",
       "    (1,\n",
       "     6,\n",
       "     u'{\"camera_make\": \"Nikon\", \"event_time\": \"2017-02-18T16:59:35.107Z\", \"camera_model\": \"Coolpix A10\", \"verb\": \"UPLOAD\", \"key\": \"8f95b4582de1\", \"customer_id\": \"b033af15661d\", \"type\": \"IMAGE\"}'),\n",
       "    (2,\n",
       "     7,\n",
       "     u'{\"total_amount\": \"91.57 USD\", \"event_time\": \"2017-02-21T16:59:35.137Z\", \"verb\": \"NEW\", \"key\": \"2a990d57ba56\", \"customer_id\": \"b033af15661d\", \"type\": \"ORDER\"}'),\n",
       "    (2,\n",
       "     7,\n",
       "     u'{\"total_amount\": \"22.22 USD\", \"event_time\": \"2017-02-21T16:59:35.299Z\", \"verb\": \"NEW\", \"key\": \"9da9d745f339\", \"customer_id\": \"b033af15661d\", \"type\": \"ORDER\"}'),\n",
       "    (2,\n",
       "     8,\n",
       "     u'{\"total_amount\": \"57.54 USD\", \"event_time\": \"2017-02-22T16:59:35.218Z\", \"verb\": \"NEW\", \"key\": \"5d0de73604b4\", \"customer_id\": \"b033af15661d\", \"type\": \"ORDER\"}'),\n",
       "    (2,\n",
       "     9,\n",
       "     u'{\"camera_make\": \"Kodak\", \"event_time\": \"2017-02-23T16:59:35.183Z\", \"camera_model\": \"Pixipro S-1\", \"verb\": \"UPLOAD\", \"key\": \"c411fdb31d3d\", \"customer_id\": \"b033af15661d\", \"type\": \"IMAGE\"}'),\n",
       "    (2,\n",
       "     10,\n",
       "     u'{\"last_name\": \"Rivera\", \"event_time\": \"2017-02-24T16:59:34.890Z\", \"verb\": \"NEW\", \"key\": \"b033af15661d\", \"adr_state\": \"MT\", \"adr_city\": \"New Jillianfurt\", \"type\": \"CUSTOMER\"}'),\n",
       "    (2,\n",
       "     10,\n",
       "     u'{\"last_name\": \"Rivera\", \"event_time\": \"2017-02-24T16:59:34.890Z\", \"verb\": \"NEW\", \"key\": \"b033af15661d\", \"adr_state\": \"MT\", \"adr_city\": \"New Jillianfurt\", \"type\": \"CUSTOMER\"}'),\n",
       "    (2,\n",
       "     10,\n",
       "     u'{\"last_name\": \"Rivera\", \"event_time\": \"2017-02-24T16:59:34.890Z\", \"verb\": \"NEW\", \"key\": \"b033af15661d\", \"adr_state\": \"MT\", \"adr_city\": \"New Jillianfurt\", \"type\": \"CUSTOMER\"}'),\n",
       "    (2,\n",
       "     10,\n",
       "     u'{\"last_name\": \"Rivera\", \"event_time\": \"2017-02-24T16:59:34.890Z\", \"verb\": \"NEW\", \"key\": \"b033af15661d\", \"adr_state\": \"MT\", \"adr_city\": \"New Jillianfurt\", \"type\": \"CUSTOMER\"}'),\n",
       "    (2,\n",
       "     10,\n",
       "     u'{\"last_name\": \"Rivera\", \"event_time\": \"2017-02-24T16:59:34.890Z\", \"verb\": \"NEW\", \"key\": \"b033af15661d\", \"adr_state\": \"MT\", \"adr_city\": \"New Jillianfurt\", \"type\": \"CUSTOMER\"}')]]),\n",
       " (u'136395ff6a28',\n",
       "  [[(0,\n",
       "     0,\n",
       "     u'{\"camera_make\": \"Sony\", \"event_time\": \"2017-02-11T16:59:25.066Z\", \"camera_model\": \"SLT-A33\", \"verb\": \"UPLOAD\", \"key\": \"b15ae6b66078\", \"customer_id\": \"136395ff6a28\", \"type\": \"IMAGE\"}'),\n",
       "    (0,\n",
       "     0,\n",
       "     u'{\"total_amount\": \"97.58 USD\", \"event_time\": \"2017-02-11T16:59:25.180Z\", \"verb\": \"NEW\", \"key\": \"4a3afb56f979\", \"customer_id\": \"136395ff6a28\", \"type\": \"ORDER\"}'),\n",
       "    (1,\n",
       "     1,\n",
       "     u'{\"event_time\": \"2017-02-13T16:59:24.878Z\", \"tags\": {\"some key\": \"some value\"}, \"verb\": \"NEW\", \"key\": \"a1e844194542\", \"customer_id\": \"136395ff6a28\", \"type\": \"SITE_VISIT\"}'),\n",
       "    (1,\n",
       "     2,\n",
       "     u'{\"last_name\": \"Jones\", \"event_time\": \"2017-02-14T16:59:24.864Z\", \"verb\": \"NEW\", \"key\": \"136395ff6a28\", \"adr_state\": \"DC\", \"adr_city\": \"Colebury\", \"type\": \"CUSTOMER\"}'),\n",
       "    (1,\n",
       "     2,\n",
       "     u'{\"last_name\": \"Jones\", \"event_time\": \"2017-02-14T16:59:24.864Z\", \"verb\": \"NEW\", \"key\": \"136395ff6a28\", \"adr_state\": \"DC\", \"adr_city\": \"Colebury\", \"type\": \"CUSTOMER\"}'),\n",
       "    (1,\n",
       "     2,\n",
       "     u'{\"last_name\": \"Jones\", \"event_time\": \"2017-02-14T16:59:24.864Z\", \"verb\": \"NEW\", \"key\": \"136395ff6a28\", \"adr_state\": \"DC\", \"adr_city\": \"Colebury\", \"type\": \"CUSTOMER\"}'),\n",
       "    (1,\n",
       "     2,\n",
       "     u'{\"last_name\": \"Jones\", \"event_time\": \"2017-02-14T16:59:24.864Z\", \"verb\": \"NEW\", \"key\": \"136395ff6a28\", \"adr_state\": \"DC\", \"adr_city\": \"Colebury\", \"type\": \"CUSTOMER\"}'),\n",
       "    (1,\n",
       "     2,\n",
       "     u'{\"camera_make\": \"Olympus\", \"event_time\": \"2017-02-14T16:59:24.909Z\", \"camera_model\": \"XZ-1\", \"verb\": \"UPLOAD\", \"key\": \"4ab24c3923c3\", \"customer_id\": \"136395ff6a28\", \"type\": \"IMAGE\"}'),\n",
       "    (1,\n",
       "     2,\n",
       "     u'{\"total_amount\": \"76.14 USD\", \"event_time\": \"2017-02-14T16:59:25.023Z\", \"verb\": \"NEW\", \"key\": \"9771b0defc80\", \"customer_id\": \"136395ff6a28\", \"type\": \"ORDER\"}'),\n",
       "    (1,\n",
       "     2,\n",
       "     u'{\"total_amount\": \"0.18 USD\", \"event_time\": \"2017-02-14T16:59:25.101Z\", \"verb\": \"NEW\", \"key\": \"0ffadb70705a\", \"customer_id\": \"136395ff6a28\", \"type\": \"ORDER\"}'),\n",
       "    (1,\n",
       "     3,\n",
       "     u'{\"event_time\": \"2017-02-16T16:59:24.961Z\", \"tags\": {\"some key\": \"some value\"}, \"verb\": \"NEW\", \"key\": \"3e5df4719a2c\", \"customer_id\": \"136395ff6a28\", \"type\": \"SITE_VISIT\"}'),\n",
       "    (1,\n",
       "     3,\n",
       "     u'{\"camera_make\": \"Canon\", \"event_time\": \"2017-02-16T16:59:25.149Z\", \"camera_model\": \"EOS 80D\", \"verb\": \"UPLOAD\", \"key\": \"3af33c515338\", \"customer_id\": \"136395ff6a28\", \"type\": \"IMAGE\"}'),\n",
       "    (2,\n",
       "     4,\n",
       "     u'{\"event_time\": \"2017-02-19T16:59:25.038Z\", \"tags\": {\"some key\": \"some value\"}, \"verb\": \"NEW\", \"key\": \"916b42a26f3c\", \"customer_id\": \"136395ff6a28\", \"type\": \"SITE_VISIT\"}'),\n",
       "    (2,\n",
       "     5,\n",
       "     u'{\"total_amount\": \"96.88 USD\", \"event_time\": \"2017-02-20T16:59:24.944Z\", \"verb\": \"NEW\", \"key\": \"284f7d47b59f\", \"customer_id\": \"136395ff6a28\", \"type\": \"ORDER\"}'),\n",
       "    (2,\n",
       "     5,\n",
       "     u'{\"event_time\": \"2017-02-20T16:59:25.116Z\", \"tags\": {\"some key\": \"some value\"}, \"verb\": \"NEW\", \"key\": \"e82329bc9934\", \"customer_id\": \"136395ff6a28\", \"type\": \"SITE_VISIT\"}'),\n",
       "    (2,\n",
       "     6,\n",
       "     u'{\"camera_make\": \"Fujifilm\", \"event_time\": \"2017-02-24T16:59:24.991Z\", \"camera_model\": \"X100F\", \"verb\": \"UPLOAD\", \"key\": \"a60c1b81c89a\", \"customer_id\": \"136395ff6a28\", \"type\": \"IMAGE\"}')]]),\n",
       " (u'23a38f3886cc',\n",
       "  [[(0,\n",
       "     0,\n",
       "     u'{\"event_time\": \"2017-02-10T16:59:31.355Z\", \"tags\": {\"some key\": \"some value\"}, \"verb\": \"NEW\", \"key\": \"639aeff32972\", \"customer_id\": \"23a38f3886cc\", \"type\": \"SITE_VISIT\"}'),\n",
       "    (1,\n",
       "     1,\n",
       "     u'{\"total_amount\": \"4.03 USD\", \"event_time\": \"2017-02-16T16:59:31.412Z\", \"verb\": \"NEW\", \"key\": \"56d00e144aee\", \"customer_id\": \"23a38f3886cc\", \"type\": \"ORDER\"}'),\n",
       "    (1,\n",
       "     2,\n",
       "     u'{\"camera_make\": \"Sony\", \"event_time\": \"2017-02-17T16:59:31.385Z\", \"camera_model\": \"SLT-A33\", \"verb\": \"UPLOAD\", \"key\": \"9aca625be537\", \"customer_id\": \"23a38f3886cc\", \"type\": \"IMAGE\"}'),\n",
       "    (2,\n",
       "     3,\n",
       "     u'{\"last_name\": \"Davis\", \"event_time\": \"2017-02-21T16:59:31.338Z\", \"verb\": \"NEW\", \"key\": \"23a38f3886cc\", \"adr_state\": \"DC\", \"adr_city\": \"Johnchester\", \"type\": \"CUSTOMER\"}')]]),\n",
       " (u'5da32100006b',\n",
       "  [[(0,\n",
       "     0,\n",
       "     u'{\"event_time\": \"2017-02-14T16:59:33.688Z\", \"tags\": {\"some key\": \"some value\"}, \"verb\": \"NEW\", \"key\": \"58d8fd68f361\", \"customer_id\": \"5da32100006b\", \"type\": \"SITE_VISIT\"}'),\n",
       "    (0,\n",
       "     1,\n",
       "     u'{\"total_amount\": \"81.26 USD\", \"event_time\": \"2017-02-15T16:59:33.742Z\", \"verb\": \"NEW\", \"key\": \"54dc5b172124\", \"customer_id\": \"5da32100006b\", \"type\": \"ORDER\"}'),\n",
       "    (0,\n",
       "     2,\n",
       "     u'{\"last_name\": \"Church\", \"event_time\": \"2017-02-16T16:59:33.599Z\", \"verb\": \"NEW\", \"key\": \"5da32100006b\", \"adr_state\": \"HI\", \"adr_city\": \"Holmesville\", \"type\": \"CUSTOMER\"}'),\n",
       "    (0,\n",
       "     2,\n",
       "     u'{\"last_name\": \"Church\", \"event_time\": \"2017-02-16T16:59:33.599Z\", \"verb\": \"NEW\", \"key\": \"5da32100006b\", \"adr_state\": \"HI\", \"adr_city\": \"Holmesville\", \"type\": \"CUSTOMER\"}'),\n",
       "    (0,\n",
       "     3,\n",
       "     u'{\"camera_make\": \"Fujifilm\", \"event_time\": \"2017-02-17T16:59:33.640Z\", \"camera_model\": \"X100F\", \"verb\": \"UPLOAD\", \"key\": \"2703897aebc4\", \"customer_id\": \"5da32100006b\", \"type\": \"IMAGE\"}'),\n",
       "    (1,\n",
       "     4,\n",
       "     u'{\"camera_make\": \"Pentax\", \"event_time\": \"2017-02-19T16:59:33.715Z\", \"camera_model\": \"X90\", \"verb\": \"UPLOAD\", \"key\": \"ca3c4404b4db\", \"customer_id\": \"5da32100006b\", \"type\": \"IMAGE\"}'),\n",
       "    (1,\n",
       "     5,\n",
       "     u'{\"event_time\": \"2017-02-24T16:59:33.613Z\", \"tags\": {\"some key\": \"some value\"}, \"verb\": \"NEW\", \"key\": \"db70544ea2bc\", \"customer_id\": \"5da32100006b\", \"type\": \"SITE_VISIT\"}'),\n",
       "    (1,\n",
       "     5,\n",
       "     u'{\"total_amount\": \"97.66 USD\", \"event_time\": \"2017-02-24T16:59:33.668Z\", \"verb\": \"NEW\", \"key\": \"8345e14d759c\", \"customer_id\": \"5da32100006b\", \"type\": \"ORDER\"}')]])]"
      ]
     },
     "execution_count": 16,
     "metadata": {},
     "output_type": "execute_result"
    }
   ],
   "source": [
    "byCustomerSession = byCustomer.map(lambda x: (x[0],sessionize(x[1])) )\n",
    "byCustomerSession.take(5)"
   ]
  },
  {
   "cell_type": "code",
   "execution_count": 18,
   "metadata": {
    "collapsed": false
   },
   "outputs": [
    {
     "data": {
      "text/plain": [
       "[[[u'59e1334b00e9', 0, 0, True, 52.38],\n",
       "  [u'59e1334b00e9', 0, 1, False, 0.0],\n",
       "  [u'59e1334b00e9', 1, 2, False, 0.0],\n",
       "  [u'59e1334b00e9', 1, 3, False, 0.0],\n",
       "  [u'59e1334b00e9', 2, 4, False, 0.0],\n",
       "  [u'59e1334b00e9', 2, 5, True, 35.51],\n",
       "  [u'59e1334b00e9', 2, 6, False, 0.0],\n",
       "  [u'59e1334b00e9', 2, 7, True, 60.04],\n",
       "  [u'59e1334b00e9', 2, 7, False, 0.0],\n",
       "  [u'59e1334b00e9', 2, 8, False, 0.0],\n",
       "  [u'59e1334b00e9', 2, 8, False, 0.0],\n",
       "  [u'59e1334b00e9', 2, 8, False, 0.0]],\n",
       " [[u'b033af15661d', 0, 0, False, 0.0],\n",
       "  [u'b033af15661d', 0, 0, False, 0.0],\n",
       "  [u'b033af15661d', 1, 1, True, 97.61],\n",
       "  [u'b033af15661d', 1, 2, True, 18.62],\n",
       "  [u'b033af15661d', 1, 3, False, 0.0],\n",
       "  [u'b033af15661d', 1, 3, False, 0.0],\n",
       "  [u'b033af15661d', 1, 4, False, 0.0],\n",
       "  [u'b033af15661d', 1, 4, False, 0.0],\n",
       "  [u'b033af15661d', 1, 5, False, 0.0],\n",
       "  [u'b033af15661d', 1, 5, False, 0.0],\n",
       "  [u'b033af15661d', 1, 6, False, 0.0],\n",
       "  [u'b033af15661d', 2, 7, True, 91.57],\n",
       "  [u'b033af15661d', 2, 7, True, 22.22],\n",
       "  [u'b033af15661d', 2, 8, True, 57.54],\n",
       "  [u'b033af15661d', 2, 9, False, 0.0],\n",
       "  [u'b033af15661d', 2, 10, False, 0.0],\n",
       "  [u'b033af15661d', 2, 10, False, 0.0],\n",
       "  [u'b033af15661d', 2, 10, False, 0.0],\n",
       "  [u'b033af15661d', 2, 10, False, 0.0],\n",
       "  [u'b033af15661d', 2, 10, False, 0.0]],\n",
       " [[u'136395ff6a28', 0, 0, False, 0.0],\n",
       "  [u'136395ff6a28', 0, 0, True, 97.58],\n",
       "  [u'136395ff6a28', 1, 1, False, 0.0],\n",
       "  [u'136395ff6a28', 1, 2, False, 0.0],\n",
       "  [u'136395ff6a28', 1, 2, False, 0.0],\n",
       "  [u'136395ff6a28', 1, 2, False, 0.0],\n",
       "  [u'136395ff6a28', 1, 2, False, 0.0],\n",
       "  [u'136395ff6a28', 1, 2, False, 0.0],\n",
       "  [u'136395ff6a28', 1, 2, True, 76.14],\n",
       "  [u'136395ff6a28', 1, 2, True, 0.18],\n",
       "  [u'136395ff6a28', 1, 3, False, 0.0],\n",
       "  [u'136395ff6a28', 1, 3, False, 0.0],\n",
       "  [u'136395ff6a28', 2, 4, False, 0.0],\n",
       "  [u'136395ff6a28', 2, 5, True, 96.88],\n",
       "  [u'136395ff6a28', 2, 5, False, 0.0],\n",
       "  [u'136395ff6a28', 2, 6, False, 0.0]],\n",
       " [[u'23a38f3886cc', 0, 0, False, 0.0],\n",
       "  [u'23a38f3886cc', 1, 1, True, 4.03],\n",
       "  [u'23a38f3886cc', 1, 2, False, 0.0],\n",
       "  [u'23a38f3886cc', 2, 3, False, 0.0]],\n",
       " [[u'5da32100006b', 0, 0, False, 0.0],\n",
       "  [u'5da32100006b', 0, 1, True, 81.26],\n",
       "  [u'5da32100006b', 0, 2, False, 0.0],\n",
       "  [u'5da32100006b', 0, 2, False, 0.0],\n",
       "  [u'5da32100006b', 0, 3, False, 0.0],\n",
       "  [u'5da32100006b', 1, 4, False, 0.0],\n",
       "  [u'5da32100006b', 1, 5, False, 0.0],\n",
       "  [u'5da32100006b', 1, 5, True, 97.66]]]"
      ]
     },
     "execution_count": 18,
     "metadata": {},
     "output_type": "execute_result"
    }
   ],
   "source": [
    "customerAmountsPerWkandVisit = byCustomerSession.map(lambda x: mapCustomerSession_to_Rows(x))\n",
    "customerAmountsPerWkandVisit.take(5)"
   ]
  },
  {
   "cell_type": "code",
   "execution_count": 19,
   "metadata": {
    "collapsed": true
   },
   "outputs": [],
   "source": [
    "def toCSV(data):\n",
    "    return ','.join([str(d) for d in data])"
   ]
  },
  {
   "cell_type": "code",
   "execution_count": 20,
   "metadata": {
    "collapsed": false
   },
   "outputs": [
    {
     "data": {
      "text/plain": [
       "0"
      ]
     },
     "execution_count": 20,
     "metadata": {},
     "output_type": "execute_result"
    }
   ],
   "source": [
    "hdr_output_t1 = 'customer_id,week_id,visit_id,isOrderType,amount\\n'\n",
    "with open('../../output/hdr_output_t1.txt','w') as f:\n",
    "    f.writelines(hdr_output_t1)\n",
    "output_t1 = customerAmountsPerWkandVisit.flatMap(lambda x: x).map(toCSV)\n",
    "output_t1.saveAsTextFile('../../output/output_t1')\n",
    "os.system(\"cat ../../output/hdr_output_t1.txt ../../output/output_t1/p* > ../../output/output_t1.txt\")"
   ]
  },
  {
   "cell_type": "code",
   "execution_count": 21,
   "metadata": {
    "collapsed": false
   },
   "outputs": [
    {
     "data": {
      "text/plain": [
       "['59e1334b00e9,0,0,True,52.38',\n",
       " '59e1334b00e9,0,1,False,0.0',\n",
       " '59e1334b00e9,1,2,False,0.0',\n",
       " '59e1334b00e9,1,3,False,0.0',\n",
       " '59e1334b00e9,2,4,False,0.0',\n",
       " '59e1334b00e9,2,5,True,35.51',\n",
       " '59e1334b00e9,2,6,False,0.0',\n",
       " '59e1334b00e9,2,7,True,60.04',\n",
       " '59e1334b00e9,2,7,False,0.0',\n",
       " '59e1334b00e9,2,8,False,0.0']"
      ]
     },
     "execution_count": 21,
     "metadata": {},
     "output_type": "execute_result"
    }
   ],
   "source": [
    "output_t1.take(10)"
   ]
  },
  {
   "cell_type": "code",
   "execution_count": 22,
   "metadata": {
    "collapsed": false
   },
   "outputs": [
    {
     "data": {
      "text/plain": [
       "[[[u'59e1334b00e9', 0, 0, True, 52.38],\n",
       "  [u'59e1334b00e9', 0, 1, False, 0.0],\n",
       "  [u'59e1334b00e9', 1, 2, False, 0.0],\n",
       "  [u'59e1334b00e9', 1, 3, False, 0.0],\n",
       "  [u'59e1334b00e9', 2, 4, False, 0.0],\n",
       "  [u'59e1334b00e9', 2, 5, True, 35.51],\n",
       "  [u'59e1334b00e9', 2, 6, False, 0.0],\n",
       "  [u'59e1334b00e9', 2, 7, True, 60.04],\n",
       "  [u'59e1334b00e9', 2, 7, False, 0.0],\n",
       "  [u'59e1334b00e9', 2, 8, False, 0.0],\n",
       "  [u'59e1334b00e9', 2, 8, False, 0.0],\n",
       "  [u'59e1334b00e9', 2, 8, False, 0.0]],\n",
       " [[u'b033af15661d', 0, 0, False, 0.0],\n",
       "  [u'b033af15661d', 0, 0, False, 0.0],\n",
       "  [u'b033af15661d', 1, 1, True, 97.61],\n",
       "  [u'b033af15661d', 1, 2, True, 18.62],\n",
       "  [u'b033af15661d', 1, 3, False, 0.0],\n",
       "  [u'b033af15661d', 1, 3, False, 0.0],\n",
       "  [u'b033af15661d', 1, 4, False, 0.0],\n",
       "  [u'b033af15661d', 1, 4, False, 0.0],\n",
       "  [u'b033af15661d', 1, 5, False, 0.0],\n",
       "  [u'b033af15661d', 1, 5, False, 0.0],\n",
       "  [u'b033af15661d', 1, 6, False, 0.0],\n",
       "  [u'b033af15661d', 2, 7, True, 91.57],\n",
       "  [u'b033af15661d', 2, 7, True, 22.22],\n",
       "  [u'b033af15661d', 2, 8, True, 57.54],\n",
       "  [u'b033af15661d', 2, 9, False, 0.0],\n",
       "  [u'b033af15661d', 2, 10, False, 0.0],\n",
       "  [u'b033af15661d', 2, 10, False, 0.0],\n",
       "  [u'b033af15661d', 2, 10, False, 0.0],\n",
       "  [u'b033af15661d', 2, 10, False, 0.0],\n",
       "  [u'b033af15661d', 2, 10, False, 0.0]],\n",
       " [[u'136395ff6a28', 0, 0, False, 0.0],\n",
       "  [u'136395ff6a28', 0, 0, True, 97.58],\n",
       "  [u'136395ff6a28', 1, 1, False, 0.0],\n",
       "  [u'136395ff6a28', 1, 2, False, 0.0],\n",
       "  [u'136395ff6a28', 1, 2, False, 0.0],\n",
       "  [u'136395ff6a28', 1, 2, False, 0.0],\n",
       "  [u'136395ff6a28', 1, 2, False, 0.0],\n",
       "  [u'136395ff6a28', 1, 2, False, 0.0],\n",
       "  [u'136395ff6a28', 1, 2, True, 76.14],\n",
       "  [u'136395ff6a28', 1, 2, True, 0.18],\n",
       "  [u'136395ff6a28', 1, 3, False, 0.0],\n",
       "  [u'136395ff6a28', 1, 3, False, 0.0],\n",
       "  [u'136395ff6a28', 2, 4, False, 0.0],\n",
       "  [u'136395ff6a28', 2, 5, True, 96.88],\n",
       "  [u'136395ff6a28', 2, 5, False, 0.0],\n",
       "  [u'136395ff6a28', 2, 6, False, 0.0]],\n",
       " [[u'23a38f3886cc', 0, 0, False, 0.0],\n",
       "  [u'23a38f3886cc', 1, 1, True, 4.03],\n",
       "  [u'23a38f3886cc', 1, 2, False, 0.0],\n",
       "  [u'23a38f3886cc', 2, 3, False, 0.0]],\n",
       " [[u'5da32100006b', 0, 0, False, 0.0],\n",
       "  [u'5da32100006b', 0, 1, True, 81.26],\n",
       "  [u'5da32100006b', 0, 2, False, 0.0],\n",
       "  [u'5da32100006b', 0, 2, False, 0.0],\n",
       "  [u'5da32100006b', 0, 3, False, 0.0],\n",
       "  [u'5da32100006b', 1, 4, False, 0.0],\n",
       "  [u'5da32100006b', 1, 5, False, 0.0],\n",
       "  [u'5da32100006b', 1, 5, True, 97.66]],\n",
       " [[u'2879a4bfbb50', 0, 0, False, 0.0],\n",
       "  [u'2879a4bfbb50', 0, 0, True, 51.74],\n",
       "  [u'2879a4bfbb50', 1, 1, False, 0.0],\n",
       "  [u'2879a4bfbb50', 1, 2, False, 0.0],\n",
       "  [u'2879a4bfbb50', 1, 3, False, 0.0],\n",
       "  [u'2879a4bfbb50', 1, 3, False, 0.0],\n",
       "  [u'2879a4bfbb50', 1, 4, True, 51.71],\n",
       "  [u'2879a4bfbb50', 2, 5, False, 0.0],\n",
       "  [u'2879a4bfbb50', 2, 6, True, 84.88],\n",
       "  [u'2879a4bfbb50', 2, 6, True, 44.09],\n",
       "  [u'2879a4bfbb50', 2, 7, False, 0.0],\n",
       "  [u'2879a4bfbb50', 2, 7, False, 0.0],\n",
       "  [u'2879a4bfbb50', 2, 8, False, 0.0],\n",
       "  [u'2879a4bfbb50', 2, 8, False, 0.0],\n",
       "  [u'2879a4bfbb50', 2, 9, False, 0.0],\n",
       "  [u'2879a4bfbb50', 2, 9, False, 0.0],\n",
       "  [u'2879a4bfbb50', 2, 9, False, 0.0],\n",
       "  [u'2879a4bfbb50', 2, 9, False, 0.0],\n",
       "  [u'2879a4bfbb50', 2, 9, False, 0.0],\n",
       "  [u'2879a4bfbb50', 2, 9, True, 10.01]],\n",
       " [[u'dbb7f5a2c0d4', 0, 0, False, 0.0],\n",
       "  [u'dbb7f5a2c0d4', 0, 0, False, 0.0],\n",
       "  [u'dbb7f5a2c0d4', 1, 1, True, 39.64],\n",
       "  [u'dbb7f5a2c0d4', 1, 2, False, 0.0]],\n",
       " [[u'817a2b9f1b49', 0, 0, False, 0.0],\n",
       "  [u'817a2b9f1b49', 0, 1, False, 0.0],\n",
       "  [u'817a2b9f1b49', 1, 2, False, 0.0],\n",
       "  [u'817a2b9f1b49', 1, 2, False, 0.0],\n",
       "  [u'817a2b9f1b49', 1, 3, False, 0.0],\n",
       "  [u'817a2b9f1b49', 1, 3, False, 0.0],\n",
       "  [u'817a2b9f1b49', 1, 3, False, 0.0],\n",
       "  [u'817a2b9f1b49', 1, 3, False, 0.0],\n",
       "  [u'817a2b9f1b49', 1, 3, False, 0.0],\n",
       "  [u'817a2b9f1b49', 1, 3, False, 0.0],\n",
       "  [u'817a2b9f1b49', 1, 3, False, 0.0],\n",
       "  [u'817a2b9f1b49', 1, 3, True, 75.32],\n",
       "  [u'817a2b9f1b49', 1, 4, True, 20.71],\n",
       "  [u'817a2b9f1b49', 1, 4, False, 0.0],\n",
       "  [u'817a2b9f1b49', 1, 4, True, 81.34],\n",
       "  [u'817a2b9f1b49', 2, 5, False, 0.0],\n",
       "  [u'817a2b9f1b49', 2, 5, False, 0.0],\n",
       "  [u'817a2b9f1b49', 2, 5, False, 0.0],\n",
       "  [u'817a2b9f1b49', 2, 6, True, 10.4],\n",
       "  [u'817a2b9f1b49', 2, 7, True, 68.05]],\n",
       " [[u'5abd3a376bbf', 0, 0, False, 0.0],\n",
       "  [u'5abd3a376bbf', 1, 1, False, 0.0],\n",
       "  [u'5abd3a376bbf', 1, 2, False, 0.0],\n",
       "  [u'5abd3a376bbf', 1, 2, True, 86.48]],\n",
       " [[u'eb359016e8d6', 0, 0, False, 0.0],\n",
       "  [u'eb359016e8d6', 1, 1, False, 0.0],\n",
       "  [u'eb359016e8d6', 1, 2, False, 0.0],\n",
       "  [u'eb359016e8d6', 1, 3, True, 37.8]]]"
      ]
     },
     "execution_count": 22,
     "metadata": {},
     "output_type": "execute_result"
    }
   ],
   "source": [
    "customerAmountsPerWkandVisit.take(10)"
   ]
  },
  {
   "cell_type": "code",
   "execution_count": 23,
   "metadata": {
    "collapsed": false
   },
   "outputs": [],
   "source": [
    "from pyspark.sql import SQLContext\n",
    "sqlContext = SQLContext(sc)"
   ]
  },
  {
   "cell_type": "code",
   "execution_count": 24,
   "metadata": {
    "collapsed": false
   },
   "outputs": [
    {
     "name": "stdout",
     "output_type": "stream",
     "text": [
      "<class 'pyspark.rdd.PipelinedRDD'>\n",
      "<type 'list'>\n"
     ]
    },
    {
     "data": {
      "text/plain": [
       "list"
      ]
     },
     "execution_count": 24,
     "metadata": {},
     "output_type": "execute_result"
    }
   ],
   "source": [
    "from operator import add\n",
    "#customerAmountsPerWkandVisit.flatMap(lambda x: x).reduce(add)\n",
    "rdd = customerAmountsPerWkandVisit.reduce(add)\n",
    "print type(customerAmountsPerWkandVisit)\n",
    "print type(customerAmountsPerWkandVisit.reduce(add))\n",
    "type(rdd)"
   ]
  },
  {
   "cell_type": "code",
   "execution_count": 25,
   "metadata": {
    "collapsed": false
   },
   "outputs": [
    {
     "name": "stdout",
     "output_type": "stream",
     "text": [
      "+------------+-------+--------+-------+------+\n",
      "| customer_id|week_id|visit_id|isOrder|amount|\n",
      "+------------+-------+--------+-------+------+\n",
      "|59e1334b00e9|      0|       0|   true| 52.38|\n",
      "|59e1334b00e9|      0|       1|  false|   0.0|\n",
      "|59e1334b00e9|      1|       2|  false|   0.0|\n",
      "|59e1334b00e9|      1|       3|  false|   0.0|\n",
      "|59e1334b00e9|      2|       4|  false|   0.0|\n",
      "|59e1334b00e9|      2|       5|   true| 35.51|\n",
      "|59e1334b00e9|      2|       6|  false|   0.0|\n",
      "|59e1334b00e9|      2|       7|   true| 60.04|\n",
      "|59e1334b00e9|      2|       7|  false|   0.0|\n",
      "|59e1334b00e9|      2|       8|  false|   0.0|\n",
      "|59e1334b00e9|      2|       8|  false|   0.0|\n",
      "|59e1334b00e9|      2|       8|  false|   0.0|\n",
      "|b033af15661d|      0|       0|  false|   0.0|\n",
      "|b033af15661d|      0|       0|  false|   0.0|\n",
      "|b033af15661d|      1|       1|   true| 97.61|\n",
      "|b033af15661d|      1|       2|   true| 18.62|\n",
      "|b033af15661d|      1|       3|  false|   0.0|\n",
      "|b033af15661d|      1|       3|  false|   0.0|\n",
      "|b033af15661d|      1|       4|  false|   0.0|\n",
      "|b033af15661d|      1|       4|  false|   0.0|\n",
      "+------------+-------+--------+-------+------+\n",
      "only showing top 20 rows\n",
      "\n"
     ]
    }
   ],
   "source": [
    "columns = ['customer_id','week_id','visit_id','isOrder','amount']\n",
    "rows = sqlContext.createDataFrame(rdd)\n",
    "\n",
    "sqlContext.registerDataFrameAsTable(rows,\"visit_amounts\")\n",
    "df2 = sqlContext.sql(\"\"\"select _1 as customer_id,\n",
    "                                _2 as week_id,\n",
    "                                _3 as visit_id,\n",
    "                                _4 as isOrder,\n",
    "                                _5 as amount\n",
    "                                from visit_amounts\n",
    "                        \"\"\")\n",
    "\n",
    "df2.show()"
   ]
  },
  {
   "cell_type": "code",
   "execution_count": 26,
   "metadata": {
    "collapsed": false
   },
   "outputs": [
    {
     "name": "stdout",
     "output_type": "stream",
     "text": [
      "+------------+-------+-------------+-----------------+\n",
      "| customer_id|week_id|visits_per_wk|    amount_per_wk|\n",
      "+------------+-------+-------------+-----------------+\n",
      "|080a257c1f0e|      0|            2|              0.0|\n",
      "|080a257c1f0e|      1|            2|              0.0|\n",
      "|080a257c1f0e|      2|            4|           186.69|\n",
      "|0b46c0536ee4|      0|            1|              0.0|\n",
      "|0b46c0536ee4|      1|            3|            75.37|\n",
      "|0b46c0536ee4|      2|            2|            20.58|\n",
      "|0cb3f4bdb94b|      0|            2|              0.0|\n",
      "|0cb3f4bdb94b|      1|            2|            29.36|\n",
      "|13103fcfb98c|      0|            1|            34.09|\n",
      "|13103fcfb98c|      1|            2|              0.0|\n",
      "|136395ff6a28|      0|            1|            97.58|\n",
      "|136395ff6a28|      1|            3|76.32000000000001|\n",
      "|136395ff6a28|      2|            3|            96.88|\n",
      "|211764fe0e81|      0|            1|              0.0|\n",
      "|211764fe0e81|      1|            3|             96.4|\n",
      "|231995cf0916|      0|            1|            61.27|\n",
      "|231995cf0916|      1|            3|            78.52|\n",
      "|231995cf0916|      2|            3|95.08999999999999|\n",
      "|23a38f3886cc|      0|            1|              0.0|\n",
      "|23a38f3886cc|      1|            2|             4.03|\n",
      "+------------+-------+-------------+-----------------+\n",
      "only showing top 20 rows\n",
      "\n"
     ]
    }
   ],
   "source": [
    "sqlContext.registerDataFrameAsTable(df2,\"t1\")\n",
    "ltv_prelim = sqlContext.sql(\"\"\"select customer_id,\n",
    "                                week_id,\n",
    "                                count(distinct visit_id) as visits_per_wk,\n",
    "                                sum(amount) as amount_per_wk\n",
    "                                from t1\n",
    "                                group by customer_id, week_id\n",
    "                                order by customer_id, week_id\n",
    "                        \"\"\")\n",
    "\n",
    "ltv_prelim.show()"
   ]
  },
  {
   "cell_type": "code",
   "execution_count": 27,
   "metadata": {
    "collapsed": false
   },
   "outputs": [
    {
     "name": "stdout",
     "output_type": "stream",
     "text": [
      "+------------+-------+-------------+-----------------+------------------+\n",
      "| customer_id|week_id|visits_per_wk|    amount_per_wk|  amount_per_visit|\n",
      "+------------+-------+-------------+-----------------+------------------+\n",
      "|080a257c1f0e|      0|            2|              0.0|               0.0|\n",
      "|080a257c1f0e|      1|            2|              0.0|               0.0|\n",
      "|080a257c1f0e|      2|            4|           186.69|           46.6725|\n",
      "|0b46c0536ee4|      0|            1|              0.0|               0.0|\n",
      "|0b46c0536ee4|      1|            3|            75.37|25.123333333333335|\n",
      "|0b46c0536ee4|      2|            2|            20.58|             10.29|\n",
      "|0cb3f4bdb94b|      0|            2|              0.0|               0.0|\n",
      "|0cb3f4bdb94b|      1|            2|            29.36|             14.68|\n",
      "|13103fcfb98c|      0|            1|            34.09|             34.09|\n",
      "|13103fcfb98c|      1|            2|              0.0|               0.0|\n",
      "|136395ff6a28|      0|            1|            97.58|             97.58|\n",
      "|136395ff6a28|      1|            3|76.32000000000001|             25.44|\n",
      "|136395ff6a28|      2|            3|            96.88| 32.29333333333333|\n",
      "|211764fe0e81|      0|            1|              0.0|               0.0|\n",
      "|211764fe0e81|      1|            3|             96.4| 32.13333333333333|\n",
      "|231995cf0916|      0|            1|            61.27|             61.27|\n",
      "|231995cf0916|      1|            3|            78.52|26.173333333333332|\n",
      "|231995cf0916|      2|            3|95.08999999999999|31.696666666666662|\n",
      "|23a38f3886cc|      0|            1|              0.0|               0.0|\n",
      "|23a38f3886cc|      1|            2|             4.03|             2.015|\n",
      "+------------+-------+-------------+-----------------+------------------+\n",
      "only showing top 20 rows\n",
      "\n"
     ]
    }
   ],
   "source": [
    "sqlContext.registerDataFrameAsTable(ltv_prelim,\"t2\")\n",
    "ltv_add = sqlContext.sql(\"\"\"select customer_id,\n",
    "                                week_id,\n",
    "                                visits_per_wk,\n",
    "                                amount_per_wk,\n",
    "                                amount_per_wk/visits_per_wk as amount_per_visit\n",
    "                                from t2\n",
    "                                order by customer_id, week_id\n",
    "                        \"\"\")\n",
    "\n",
    "ltv_add.show()"
   ]
  },
  {
   "cell_type": "code",
   "execution_count": 28,
   "metadata": {
    "collapsed": false
   },
   "outputs": [
    {
     "data": {
      "text/plain": [
       "0"
      ]
     },
     "execution_count": 28,
     "metadata": {},
     "output_type": "execute_result"
    }
   ],
   "source": [
    "hdr_output_ltv_specs = 'customer_id,week_id,visits_per_wk,amount_per_wk,amount_per_visit\\n'\n",
    "with open('../../output/hdr_output_ltv_specs.txt','w') as f:\n",
    "    f.writelines(hdr_output_ltv_specs)\n",
    "\n",
    "ltv_add.write.csv('../../output/output_ltv_specs')\n",
    "os.system(\"cat ../../output/hdr_output_ltv_specs.txt ../../output/output_ltv_specs/p* > ../../output/output_ltv_specs.txt\")"
   ]
  },
  {
   "cell_type": "code",
   "execution_count": 29,
   "metadata": {
    "collapsed": false
   },
   "outputs": [
    {
     "name": "stdout",
     "output_type": "stream",
     "text": [
      "+------------+------------------+\n",
      "| customer_id|      customer_ltv|\n",
      "+------------+------------------+\n",
      "|c670daa7e51c|23516.350000000002|\n",
      "|f879ce019eb7|21889.771428571432|\n",
      "|136395ff6a28|20115.085714285713|\n",
      "|231995cf0916|17448.228571428568|\n",
      "|817a2b9f1b49|           16628.3|\n",
      "|d642a91ea4e4|          16493.75|\n",
      "|7784d50a5dbe|           16218.8|\n",
      "|ce218f4d6b6a|          15814.24|\n",
      "|5da32100006b|15506.400000000001|\n",
      "|5abd3a376bbf|14989.866666666667|\n",
      "|d0baf4d11996|          14889.16|\n",
      "|f82d02da0bcb|14226.160000000002|\n",
      "|b033af15661d|13593.745454545453|\n",
      "|eaeda57e3148|13425.533333333333|\n",
      "|8fff640f5c8c|12914.720000000001|\n",
      "|5a4a630327a0|12818.000000000002|\n",
      "|4447afe26ff7|           12680.2|\n",
      "|2879a4bfbb50|12606.360000000002|\n",
      "|211764fe0e81|           12532.0|\n",
      "|b02ecfd0f18d|12370.800000000001|\n",
      "+------------+------------------+\n",
      "only showing top 20 rows\n",
      "\n"
     ]
    }
   ],
   "source": [
    "sqlContext.registerDataFrameAsTable(ltv_add,\"t3\")\n",
    "ltv_final = sqlContext.sql(\"\"\"select customer_id,\n",
    "                            52*(sum(amount_per_wk)/sum(visits_per_wk))*10 as customer_ltv\n",
    "                                from t3\n",
    "                                group by customer_id\n",
    "                                order by customer_ltv desc\n",
    "                        \"\"\")\n",
    "\n",
    "ltv_final.show()"
   ]
  },
  {
   "cell_type": "code",
   "execution_count": 30,
   "metadata": {
    "collapsed": false
   },
   "outputs": [
    {
     "data": {
      "text/plain": [
       "0"
      ]
     },
     "execution_count": 30,
     "metadata": {},
     "output_type": "execute_result"
    }
   ],
   "source": [
    "hdr_output_ltv_final = 'customer_id,customer_ltv\\n'\n",
    "with open('../../output/hdr_output_ltv_final.txt','w') as f:\n",
    "    f.writelines(hdr_output_ltv_final)\n",
    "\n",
    "ltv_final.write.csv('../../output/output_ltv_final')\n",
    "os.system(\"cat ../../output/hdr_output_ltv_final.txt ../../output/output_ltv_final/p* > ../../output/output_ltv_final.txt\")"
   ]
  },
  {
   "cell_type": "code",
   "execution_count": null,
   "metadata": {
    "collapsed": true
   },
   "outputs": [],
   "source": []
  }
 ],
 "metadata": {
  "kernelspec": {
   "display_name": "Python 2",
   "language": "python",
   "name": "python2"
  },
  "language_info": {
   "codemirror_mode": {
    "name": "ipython",
    "version": 2
   },
   "file_extension": ".py",
   "mimetype": "text/x-python",
   "name": "python",
   "nbconvert_exporter": "python",
   "pygments_lexer": "ipython2",
   "version": "2.7.12"
  }
 },
 "nbformat": 4,
 "nbformat_minor": 2
}
